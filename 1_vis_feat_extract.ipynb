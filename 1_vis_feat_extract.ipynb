{
 "cells": [
  {
   "cell_type": "code",
   "execution_count": null,
   "metadata": {},
   "outputs": [],
   "source": [
    "import torch\n",
    "import os\n",
    "from glob import glob\n",
    "from PIL import Image\n",
    "from torch.utils.data import Dataset, DataLoader\n",
    "from torchvision import transforms\n",
    "\n",
    "transform = transforms.Compose([\n",
    "    transforms.Resize((224, 224)),\n",
    "    transforms.ToTensor()\n",
    "])\n",
    "# 사용자 정의 데이터셋 클래스 정의\n",
    "class ImageDataset(Dataset):\n",
    "    def __init__(self, data_root, transform=transform):\n",
    "        self.data_root = data_root\n",
    "        self.transform = transform\n",
    "        self.image_paths = glob(os.path.join(data_root, 'batch*', '*', '*','*.jpg'))\n",
    "        # sort\n",
    "        self.image_paths = sorted(self.image_paths)\n",
    "        # half\n",
    "        self.image_paths = self.image_paths[:len(self.image_paths)//2+1]\n",
    "    def __len__(self):\n",
    "        return len(self.image_paths)\n",
    "\n",
    "    def __getitem__(self, idx):\n",
    "        data = {}\n",
    "        image_path = self.image_paths[idx]\n",
    "        image = Image.open(image_path).convert('RGB')\n",
    "        if self.transform:\n",
    "            image = self.transform(image)\n",
    "        data['image'] = image\n",
    "        data['image_path'] = image_path\n",
    "        return data"
   ]
  },
  {
   "cell_type": "code",
   "execution_count": null,
   "metadata": {},
   "outputs": [],
   "source": [
    "from transformers import ViTImageProcessor, ViTModel\n",
    "from torch.utils.data import DataLoader\n",
    "import numpy as np\n",
    "import os\n",
    "import torch\n",
    "from tqdm import tqdm\n",
    "\n",
    "device = 'cuda' if torch.cuda.is_available() else 'cpu'\n",
    "\n",
    "# 사전 훈련된 모델과 특징 추출기 로드\n",
    "image_processor = ViTImageProcessor.from_pretrained('google/vit-base-patch16-224-in21k')\n",
    "model = ViTModel.from_pretrained('google/vit-base-patch16-224-in21k').to(device)\n",
    "model.eval()\n",
    "\n",
    "# dataloader\n",
    "dataset = ImageDataset(data_root='/home/minseongjae/Downloads/AffWild2')\n",
    "dataloader = DataLoader(dataset, batch_size=32, shuffle=False, num_workers=4)\n",
    "\n",
    "# 데이터 순회하며 특징 추출 및 저장\n",
    "with torch.no_grad():\n",
    "    for data in tqdm(dataloader):\n",
    "        # 특징 추출\n",
    "        inputs = image_processor(images=data['image'], return_tensors=\"pt\", do_rescale=False, do_resize=False).to(device)\n",
    "        outputs = model(**inputs)\n",
    "        features = outputs.pooler_output\n",
    "        for i, path in enumerate(data['image_path']):\n",
    "            path = path.replace('cropped_aligned', 'Features').replace('.jpg', '.npy')\n",
    "            os.makedirs(os.path.dirname(path), exist_ok=True)\n",
    "            np.save(path, features[i].to('cpu').numpy())"
   ]
  },
  {
   "cell_type": "code",
   "execution_count": null,
   "metadata": {},
   "outputs": [],
   "source": []
  }
 ],
 "metadata": {
  "kernelspec": {
   "display_name": "meta",
   "language": "python",
   "name": "python3"
  },
  "language_info": {
   "codemirror_mode": {
    "name": "ipython",
    "version": 3
   },
   "file_extension": ".py",
   "mimetype": "text/x-python",
   "name": "python",
   "nbconvert_exporter": "python",
   "pygments_lexer": "ipython3",
   "version": "3.12.1"
  }
 },
 "nbformat": 4,
 "nbformat_minor": 2
}
