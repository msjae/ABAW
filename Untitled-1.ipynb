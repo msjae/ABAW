{
 "cells": [
  {
   "cell_type": "code",
   "execution_count": 1,
   "metadata": {},
   "outputs": [],
   "source": [
    "import os \n",
    "import glob\n",
    "import numpy as np\n",
    "import pandas as pd\n",
    "from tqdm import tqdm"
   ]
  },
  {
   "cell_type": "code",
   "execution_count": 79,
   "metadata": {},
   "outputs": [],
   "source": [
    "data_path = \"/media/minseongjae/HDD/data/AffWild2/Features\"\n",
    "anno_path = \"/media/minseongjae/HDD/data/AffWild2/6th ABAW Annotations\""
   ]
  },
  {
   "cell_type": "code",
   "execution_count": 80,
   "metadata": {},
   "outputs": [],
   "source": [
    "AU_train_anno = glob.glob(os.path.join(anno_path, \"AU_Detection_Challenge*\", \"Train_Set\", \"*.txt\"))\n",
    "AU_train_anno.sort(key=lambda x: x.split(\"/\")[-1][:-4])\n",
    "EXPR_train_anno = glob.glob(os.path.join(anno_path, \"EXPR_Recognition_Challenge\",\"Train_Set\", \"*.txt\"))\n",
    "EXPR_train_anno.sort(key=lambda x: x.split(\"/\")[-1][:-4])\n",
    "VA_train_anno = glob.glob(os.path.join(anno_path, \"VA_Estimation_Challenge\",\"Train_Set\", \"*.txt\"))\n",
    "VA_train_anno.sort(key=lambda x: x.split(\"/\")[-1][:-4])\n",
    "np_folders = glob.glob(os.path.join(data_path, \"*\"))\n",
    "np_folders.sort(key=lambda x: x.split(\"/\")[-1])"
   ]
  },
  {
   "cell_type": "code",
   "execution_count": 70,
   "metadata": {},
   "outputs": [
    {
     "data": {
      "text/plain": [
       "(295, 248, 356, 594)"
      ]
     },
     "execution_count": 70,
     "metadata": {},
     "output_type": "execute_result"
    }
   ],
   "source": [
    "len(AU_train_anno), len(EXPR_train_anno), len(VA_train_anno), len(np_folders)   "
   ]
  },
  {
   "cell_type": "code",
   "execution_count": 111,
   "metadata": {},
   "outputs": [
    {
     "name": "stderr",
     "output_type": "stream",
     "text": [
      "  0%|          | 0/108 [00:00<?, ?it/s]"
     ]
    },
    {
     "name": "stderr",
     "output_type": "stream",
     "text": [
      "  8%|▊         | 9/108 [00:58<07:50,  4.75s/it]  "
     ]
    },
    {
     "name": "stdout",
     "output_type": "stream",
     "text": [
      "video10_1_left\n",
      "video10_1_right\n",
      "video11\n",
      "video12\n",
      "video13\n",
      "video14\n",
      "video15\n",
      "video16\n",
      "video17\n",
      "video18\n",
      "video19\n"
     ]
    },
    {
     "name": "stderr",
     "output_type": "stream",
     "text": [
      " 16%|█▌        | 17/108 [01:07<04:04,  2.69s/it]"
     ]
    },
    {
     "name": "stdout",
     "output_type": "stream",
     "text": [
      "video20\n",
      "video21\n",
      "video22\n",
      "video23\n"
     ]
    },
    {
     "name": "stderr",
     "output_type": "stream",
     "text": [
      " 20%|██        | 22/108 [01:36<04:48,  3.36s/it]"
     ]
    },
    {
     "name": "stdout",
     "output_type": "stream",
     "text": [
      "video25\n",
      "video26\n",
      "video27\n",
      "video28\n",
      "video29_left\n",
      "video29_right\n"
     ]
    },
    {
     "name": "stderr",
     "output_type": "stream",
     "text": [
      " 31%|███       | 33/108 [02:24<04:13,  3.38s/it]"
     ]
    },
    {
     "name": "stdout",
     "output_type": "stream",
     "text": [
      "video30\n",
      "video32\n",
      "video33\n",
      "video34\n",
      "video35\n",
      "video36\n",
      "video37\n",
      "video38\n",
      "video39\n"
     ]
    },
    {
     "name": "stderr",
     "output_type": "stream",
     "text": [
      " 35%|███▌      | 38/108 [02:35<03:31,  3.02s/it]"
     ]
    },
    {
     "name": "stdout",
     "output_type": "stream",
     "text": [
      "video40\n",
      "video41\n",
      "video42\n",
      "video44\n",
      "video45_1\n",
      "video45_2\n"
     ]
    },
    {
     "name": "stderr",
     "output_type": "stream",
     "text": [
      " 40%|███▉      | 43/108 [02:36<02:20,  2.16s/it]"
     ]
    },
    {
     "name": "stdout",
     "output_type": "stream",
     "text": [
      "video45_4\n"
     ]
    },
    {
     "name": "stderr",
     "output_type": "stream",
     "text": [
      " 44%|████▍     | 48/108 [02:42<01:47,  1.79s/it]"
     ]
    },
    {
     "name": "stdout",
     "output_type": "stream",
     "text": [
      "video46\n"
     ]
    },
    {
     "name": "stderr",
     "output_type": "stream",
     "text": [
      " 53%|█████▎    | 57/108 [04:03<04:12,  4.95s/it]"
     ]
    },
    {
     "name": "stdout",
     "output_type": "stream",
     "text": [
      "video49_right\n",
      "video51\n",
      "video52\n",
      "video53\n",
      "video54\n",
      "video55_left\n",
      "video55_right\n",
      "video56\n",
      "video57\n"
     ]
    },
    {
     "name": "stderr",
     "output_type": "stream",
     "text": [
      " 56%|█████▋    | 61/108 [04:05<02:46,  3.55s/it]"
     ]
    },
    {
     "name": "stdout",
     "output_type": "stream",
     "text": [
      "video59\n",
      "video59_right\n",
      "video5_left\n",
      "video5_right\n"
     ]
    },
    {
     "name": "stderr",
     "output_type": "stream",
     "text": [
      " 61%|██████    | 66/108 [04:39<03:17,  4.70s/it]"
     ]
    },
    {
     "name": "stdout",
     "output_type": "stream",
     "text": [
      "video60\n"
     ]
    },
    {
     "name": "stderr",
     "output_type": "stream",
     "text": [
      " 63%|██████▎   | 68/108 [04:39<02:36,  3.92s/it]"
     ]
    },
    {
     "name": "stdout",
     "output_type": "stream",
     "text": [
      "video62\n"
     ]
    },
    {
     "name": "stderr",
     "output_type": "stream",
     "text": [
      " 65%|██████▍   | 70/108 [04:41<02:07,  3.34s/it]"
     ]
    },
    {
     "name": "stdout",
     "output_type": "stream",
     "text": [
      "video64\n",
      "video65\n"
     ]
    },
    {
     "name": "stderr",
     "output_type": "stream",
     "text": [
      " 69%|██████▊   | 74/108 [04:50<01:45,  3.10s/it]"
     ]
    },
    {
     "name": "stdout",
     "output_type": "stream",
     "text": [
      "video69\n"
     ]
    },
    {
     "name": "stderr",
     "output_type": "stream",
     "text": [
      " 70%|███████   | 76/108 [05:03<02:10,  4.08s/it]"
     ]
    },
    {
     "name": "stdout",
     "output_type": "stream",
     "text": [
      "video70\n",
      "video71\n"
     ]
    },
    {
     "name": "stderr",
     "output_type": "stream",
     "text": [
      " 76%|███████▌  | 82/108 [05:07<00:51,  1.99s/it]"
     ]
    },
    {
     "name": "stdout",
     "output_type": "stream",
     "text": [
      "video73\n",
      "video74_left\n",
      "video74_right\n",
      "video75\n",
      "video76\n",
      "video77\n",
      "video78\n"
     ]
    },
    {
     "name": "stderr",
     "output_type": "stream",
     "text": [
      " 91%|█████████ | 98/108 [06:39<00:38,  3.85s/it]"
     ]
    },
    {
     "name": "stdout",
     "output_type": "stream",
     "text": [
      "video80\n",
      "video81\n",
      "video82\n",
      "video83\n",
      "video84\n",
      "video85\n",
      "video86_1\n",
      "video86_2\n",
      "video86_3\n",
      "video87\n",
      "video88\n",
      "video89\n",
      "video9\n",
      "video90\n",
      "video91\n",
      "video92\n"
     ]
    },
    {
     "name": "stderr",
     "output_type": "stream",
     "text": [
      "100%|██████████| 108/108 [06:57<00:00,  3.86s/it]"
     ]
    },
    {
     "name": "stdout",
     "output_type": "stream",
     "text": [
      "video95\n",
      "video96\n"
     ]
    },
    {
     "name": "stderr",
     "output_type": "stream",
     "text": [
      "\n"
     ]
    }
   ],
   "source": [
    "#AU_id, EXPR_id, VA_id = 262,172,301\n",
    "dfs_list = []  # 개별 데이터프레임을 저장할 리스트\n",
    "\n",
    "for num, folder in enumerate(tqdm(np_folders[486:])):\n",
    "    AU_flag, EXPR_flag, VA_flag = False, False, False\n",
    "    AU_label, EXPR_label, VA_label = [], [], []\n",
    "    folder_name = folder.split(\"/\")[-1]\n",
    "    imgs = glob.glob(os.path.join(folder, \"*.npy\"))\n",
    "    imgs.sort()\n",
    "    img_npys =[]\n",
    "    AU_id = len(AU_train_anno) - 1 if AU_id == len(AU_train_anno) else AU_id\n",
    "    EXPR_id = len(EXPR_train_anno) - 1 if EXPR_id == len(EXPR_train_anno) else EXPR_id\n",
    "    VA_id = len(VA_train_anno) - 1 if VA_id == len(VA_train_anno) else VA_id\n",
    "    AU_folder = AU_train_anno[AU_id].split(\"/\")[-1][:-4]\n",
    "    EXPR_folder = EXPR_train_anno[EXPR_id].split(\"/\")[-1][:-4]\n",
    "    VA_folder = VA_train_anno[VA_id].split(\"/\")[-1][:-4]\n",
    "    if folder_name == AU_folder:\n",
    "        AU_flag = True\n",
    "        with open(AU_train_anno[AU_id], \"r\") as f:\n",
    "            AU_lines = f.readlines()[1:]\n",
    "        AU_id += 1\n",
    "    if folder_name == EXPR_folder:\n",
    "        EXPR_flag = True\n",
    "        with open(EXPR_train_anno[EXPR_id], \"r\") as f:\n",
    "            EXPR_lines = f.readlines()[1:]\n",
    "        EXPR_id += 1\n",
    "    if folder_name == VA_folder:\n",
    "        VA_flag = True\n",
    "        with open(VA_train_anno[VA_id], \"r\") as f:\n",
    "            VA_lines = f.readlines()[1:]\n",
    "        VA_id += 1\n",
    "    if not AU_flag and not EXPR_flag and not VA_flag:\n",
    "        print(folder_name)\n",
    "        continue\n",
    "    frames = []\n",
    "    for idx,img in enumerate(imgs):\n",
    "        frame = int(img.split(\"/\")[-1][:-4])\n",
    "        img_npy = np.load(img)\n",
    "        img_npys.append(img_npy.tolist())\n",
    "        if AU_flag:\n",
    "            try:\n",
    "                AU_label.append(AU_lines[frame - 1])\n",
    "            except:\n",
    "                AU_label.append(AU_lines[-1])\n",
    "        else:\n",
    "            AU_label.append(np.nan)\n",
    "        if EXPR_flag:\n",
    "            try:\n",
    "                EXPR_label.append(EXPR_lines[frame - 1])\n",
    "            except:\n",
    "                EXPR_label.append(EXPR_lines[-1])\n",
    "        else:\n",
    "            EXPR_label.append(np.nan)\n",
    "        if VA_flag:\n",
    "            try:\n",
    "                VA_label.append(VA_lines[frame - 1])\n",
    "            except:\n",
    "                VA_label.append(VA_lines[-1])\n",
    "        else:\n",
    "            VA_label.append(np.nan)\n",
    "        frames.append(frame)\n",
    "    df = pd.DataFrame({\"frame\": frames, \"vis_feat\":img_npys, \"AU\":AU_label, \"EXPR\":EXPR_label, \"VA\":VA_label})\n",
    "    df.to_csv(f\"/media/minseongjae/HDD/data/AffWild2/anno/{folder_name}.csv\", index=False)\n",
    "#     dfs_list.append(df)\n",
    "#     print(num)\n",
    "# dfs = pd.concat(dfs_list, ignore_index=True)\n",
    "# dfs.to_csv(\"/media/minseongjae/HDD/data/AffWild2/anno.csv\", index=False)"
   ]
  },
  {
   "cell_type": "code",
   "execution_count": 112,
   "metadata": {},
   "outputs": [
    {
     "data": {
      "text/plain": [
       "247"
      ]
     },
     "execution_count": 112,
     "metadata": {},
     "output_type": "execute_result"
    }
   ],
   "source": [
    "EXPR_id"
   ]
  },
  {
   "cell_type": "code",
   "execution_count": 113,
   "metadata": {},
   "outputs": [],
   "source": [
    "AU_Valid_anno = glob.glob(os.path.join(anno_path, \"AU_Detection_Challenge*\", \"Validation_Set\", \"*.txt\"))\n",
    "AU_Valid_anno.sort(key=lambda x: x.split(\"/\")[-1][:-4])\n",
    "EXPR_Valid_anno = glob.glob(os.path.join(anno_path, \"EXPR_Recognition_Challenge\",\"Validation_Set\", \"*.txt\"))\n",
    "EXPR_Valid_anno.sort(key=lambda x: x.split(\"/\")[-1][:-4])\n",
    "VA_Valid_anno = glob.glob(os.path.join(anno_path, \"VA_Estimation_Challenge\",\"Validation_Set\", \"*.txt\"))\n",
    "VA_Valid_anno.sort(key=lambda x: x.split(\"/\")[-1][:-4])\n",
    "np_folders = glob.glob(os.path.join(data_path, \"*\"))\n",
    "np_folders.sort(key=lambda x: x.split(\"/\")[-1])"
   ]
  },
  {
   "cell_type": "code",
   "execution_count": 115,
   "metadata": {},
   "outputs": [
    {
     "name": "stderr",
     "output_type": "stream",
     "text": [
      "  0%|          | 0/594 [00:00<?, ?it/s]"
     ]
    },
    {
     "name": "stderr",
     "output_type": "stream",
     "text": [
      "  0%|          | 1/594 [01:52<18:29:47, 112.29s/it]"
     ]
    },
    {
     "name": "stdout",
     "output_type": "stream",
     "text": [
      "10-60-1280x720\n",
      "10-60-1280x720_right\n"
     ]
    },
    {
     "name": "stderr",
     "output_type": "stream",
     "text": [
      "  1%|          | 4/594 [02:30<5:10:22, 31.56s/it]  "
     ]
    },
    {
     "name": "stdout",
     "output_type": "stream",
     "text": [
      "101-30-1080x1920\n",
      "102\n",
      "102-30-640x360\n",
      "103\n",
      "103-30-384x480\n",
      "104-17-720x480\n",
      "105\n",
      "105-30-1280x720\n"
     ]
    },
    {
     "name": "stderr",
     "output_type": "stream",
     "text": [
      "  2%|▏         | 13/594 [04:37<2:54:02, 17.97s/it]"
     ]
    },
    {
     "name": "stdout",
     "output_type": "stream",
     "text": [
      "106-30-720x1280\n",
      "107\n"
     ]
    },
    {
     "name": "stderr",
     "output_type": "stream",
     "text": [
      "  3%|▎         | 17/594 [05:45<3:06:50, 19.43s/it]"
     ]
    },
    {
     "name": "stdout",
     "output_type": "stream",
     "text": [
      "108-15-640x480\n",
      "109-30-1280x720\n",
      "11-24-1920x1080\n",
      "110\n",
      "110-30-270x480\n",
      "111\n",
      "111-25-1920x1080\n",
      "112\n"
     ]
    },
    {
     "name": "stderr",
     "output_type": "stream",
     "text": [
      "  4%|▍         | 26/594 [07:19<2:13:03, 14.06s/it]"
     ]
    },
    {
     "name": "stdout",
     "output_type": "stream",
     "text": [
      "113\n"
     ]
    },
    {
     "name": "stderr",
     "output_type": "stream",
     "text": [
      "  5%|▍         | 28/594 [08:24<2:40:16, 16.99s/it]"
     ]
    },
    {
     "name": "stdout",
     "output_type": "stream",
     "text": [
      "114\n"
     ]
    },
    {
     "name": "stderr",
     "output_type": "stream",
     "text": [
      "  5%|▌         | 31/594 [10:14<3:38:35, 23.30s/it]"
     ]
    },
    {
     "name": "stdout",
     "output_type": "stream",
     "text": [
      "116\n",
      "116-30-1280x720\n"
     ]
    },
    {
     "name": "stderr",
     "output_type": "stream",
     "text": [
      "  6%|▌         | 34/594 [11:34<3:47:46, 24.40s/it]"
     ]
    },
    {
     "name": "stdout",
     "output_type": "stream",
     "text": [
      "117-25-1920x1080\n"
     ]
    },
    {
     "name": "stderr",
     "output_type": "stream",
     "text": [
      "  6%|▋         | 38/594 [13:22<4:29:40, 29.10s/it]"
     ]
    },
    {
     "name": "stdout",
     "output_type": "stream",
     "text": [
      "119-30-848x480\n"
     ]
    },
    {
     "name": "stderr",
     "output_type": "stream",
     "text": [
      "  8%|▊         | 49/594 [31:08<15:53:16, 104.95s/it]"
     ]
    },
    {
     "name": "stdout",
     "output_type": "stream",
     "text": [
      "122-60-1920x1080-5\n"
     ]
    },
    {
     "name": "stderr",
     "output_type": "stream",
     "text": [
      " 10%|█         | 61/594 [48:02<8:01:19, 54.18s/it]  "
     ]
    },
    {
     "name": "stdout",
     "output_type": "stream",
     "text": [
      "129\n"
     ]
    },
    {
     "name": "stderr",
     "output_type": "stream",
     "text": [
      " 11%|█         | 65/594 [50:56<7:02:30, 47.92s/it]"
     ]
    },
    {
     "name": "stdout",
     "output_type": "stream",
     "text": [
      "130-25-1280x720_left\n",
      "130-25-1280x720_right\n"
     ]
    },
    {
     "name": "stderr",
     "output_type": "stream",
     "text": [
      " 12%|█▏        | 72/594 [54:26<3:57:13, 27.27s/it]"
     ]
    },
    {
     "name": "stdout",
     "output_type": "stream",
     "text": [
      "133-30-1280x720\n"
     ]
    },
    {
     "name": "stderr",
     "output_type": "stream",
     "text": [
      " 12%|█▏        | 74/594 [54:47<2:55:22, 20.23s/it]"
     ]
    },
    {
     "name": "stdout",
     "output_type": "stream",
     "text": [
      "134-30-1280x720\n"
     ]
    },
    {
     "name": "stderr",
     "output_type": "stream",
     "text": [
      " 13%|█▎        | 77/594 [56:17<3:56:09, 27.41s/it]"
     ]
    },
    {
     "name": "stdout",
     "output_type": "stream",
     "text": [
      "135-24-1920x1080_right\n"
     ]
    },
    {
     "name": "stderr",
     "output_type": "stream",
     "text": [
      " 13%|█▎        | 79/594 [57:09<3:50:01, 26.80s/it]"
     ]
    },
    {
     "name": "stdout",
     "output_type": "stream",
     "text": [
      "136-30-1920x1080\n"
     ]
    },
    {
     "name": "stderr",
     "output_type": "stream",
     "text": [
      " 14%|█▍        | 83/594 [59:53<5:07:50, 36.15s/it]"
     ]
    },
    {
     "name": "stdout",
     "output_type": "stream",
     "text": [
      "138-30-1280x720\n"
     ]
    },
    {
     "name": "stderr",
     "output_type": "stream",
     "text": [
      " 14%|█▍        | 85/594 [1:01:02<5:00:19, 35.40s/it]"
     ]
    },
    {
     "name": "stdout",
     "output_type": "stream",
     "text": [
      "139-14-720x480\n",
      "14-30-1920x1080\n"
     ]
    },
    {
     "name": "stderr",
     "output_type": "stream",
     "text": [
      " 16%|█▌        | 96/594 [1:13:00<12:50:32, 92.84s/it]"
     ]
    },
    {
     "name": "stdout",
     "output_type": "stream",
     "text": [
      "15-24-1920x1080\n"
     ]
    },
    {
     "name": "stderr",
     "output_type": "stream",
     "text": [
      " 19%|█▉        | 113/594 [1:21:15<4:06:44, 30.78s/it]"
     ]
    },
    {
     "name": "stdout",
     "output_type": "stream",
     "text": [
      "166\n",
      "167\n",
      "168\n",
      "169\n",
      "17-24-1920x1080\n",
      "171\n",
      "172\n",
      "175\n",
      "176\n",
      "177\n",
      "178\n",
      "179\n"
     ]
    },
    {
     "name": "stderr",
     "output_type": "stream",
     "text": [
      " 21%|██        | 126/594 [1:21:40<49:18,  6.32s/it]  "
     ]
    },
    {
     "name": "stdout",
     "output_type": "stream",
     "text": [
      "181\n",
      "182\n",
      "183\n",
      "184\n",
      "185\n",
      "186\n",
      "187\n",
      "188\n",
      "189\n"
     ]
    },
    {
     "name": "stderr",
     "output_type": "stream",
     "text": [
      " 23%|██▎       | 137/594 [1:23:27<1:05:28,  8.60s/it]"
     ]
    },
    {
     "name": "stdout",
     "output_type": "stream",
     "text": [
      "191\n",
      "192\n",
      "193\n",
      "194\n",
      "195\n",
      "196\n",
      "197\n",
      "198\n",
      "199\n",
      "2-30-640x360\n",
      "20-24-1920x1080\n",
      "200\n",
      "201\n",
      "202\n",
      "203\n",
      "204\n",
      "206\n",
      "207\n",
      "208\n",
      "209\n"
     ]
    },
    {
     "name": "stderr",
     "output_type": "stream",
     "text": [
      " 27%|██▋       | 158/594 [1:23:54<27:29,  3.78s/it]  "
     ]
    },
    {
     "name": "stdout",
     "output_type": "stream",
     "text": [
      "210\n"
     ]
    },
    {
     "name": "stderr",
     "output_type": "stream",
     "text": [
      " 27%|██▋       | 160/594 [1:24:14<31:01,  4.29s/it]"
     ]
    },
    {
     "name": "stdout",
     "output_type": "stream",
     "text": [
      "212\n",
      "213\n",
      "214\n",
      "215\n"
     ]
    },
    {
     "name": "stderr",
     "output_type": "stream",
     "text": [
      " 28%|██▊       | 166/594 [1:25:01<42:20,  5.94s/it]"
     ]
    },
    {
     "name": "stdout",
     "output_type": "stream",
     "text": [
      "219\n",
      "22-30-1920x1080\n",
      "220\n",
      "221\n"
     ]
    },
    {
     "name": "stderr",
     "output_type": "stream",
     "text": [
      " 29%|██▉       | 172/594 [1:25:42<46:05,  6.55s/it]"
     ]
    },
    {
     "name": "stdout",
     "output_type": "stream",
     "text": [
      "225\n",
      "226\n",
      "227\n",
      "228\n",
      "229\n",
      "23-24-1920x1080\n",
      "230\n",
      "231\n",
      "232\n",
      "233\n",
      "234\n",
      "235\n",
      "236\n",
      "237\n",
      "238\n",
      "239\n"
     ]
    },
    {
     "name": "stderr",
     "output_type": "stream",
     "text": [
      " 32%|███▏      | 190/594 [1:26:32<30:54,  4.59s/it]"
     ]
    },
    {
     "name": "stdout",
     "output_type": "stream",
     "text": [
      "240\n",
      "241\n",
      "242\n",
      "243\n",
      "244\n",
      "245\n",
      "246\n",
      "247\n",
      "248\n",
      "249\n"
     ]
    },
    {
     "name": "stderr",
     "output_type": "stream",
     "text": [
      " 34%|███▍      | 201/594 [1:27:17<28:28,  4.35s/it]"
     ]
    },
    {
     "name": "stdout",
     "output_type": "stream",
     "text": [
      "250\n"
     ]
    },
    {
     "name": "stderr",
     "output_type": "stream",
     "text": [
      " 34%|███▍      | 203/594 [1:27:25<28:03,  4.30s/it]"
     ]
    },
    {
     "name": "stdout",
     "output_type": "stream",
     "text": [
      "252\n",
      "253\n",
      "254\n",
      "255\n"
     ]
    },
    {
     "name": "stderr",
     "output_type": "stream",
     "text": [
      " 35%|███▌      | 208/594 [1:27:56<31:06,  4.84s/it]"
     ]
    },
    {
     "name": "stdout",
     "output_type": "stream",
     "text": [
      "257\n"
     ]
    },
    {
     "name": "stderr",
     "output_type": "stream",
     "text": [
      " 35%|███▌      | 210/594 [1:28:12<33:46,  5.28s/it]"
     ]
    },
    {
     "name": "stdout",
     "output_type": "stream",
     "text": [
      "259\n"
     ]
    },
    {
     "name": "stderr",
     "output_type": "stream",
     "text": [
      " 36%|███▌      | 212/594 [1:28:38<41:17,  6.48s/it]"
     ]
    },
    {
     "name": "stdout",
     "output_type": "stream",
     "text": [
      "260\n",
      "261\n",
      "262\n"
     ]
    },
    {
     "name": "stderr",
     "output_type": "stream",
     "text": [
      " 36%|███▋      | 216/594 [1:29:10<43:53,  6.97s/it]"
     ]
    },
    {
     "name": "stdout",
     "output_type": "stream",
     "text": [
      "265\n",
      "266\n",
      "267\n",
      "268\n",
      "269\n"
     ]
    },
    {
     "name": "stderr",
     "output_type": "stream",
     "text": [
      " 37%|███▋      | 222/594 [1:29:47<41:13,  6.65s/it]"
     ]
    },
    {
     "name": "stdout",
     "output_type": "stream",
     "text": [
      "270\n",
      "271\n",
      "272\n",
      "273\n",
      "274\n",
      "275\n",
      "276\n",
      "277\n",
      "278\n",
      "279\n"
     ]
    },
    {
     "name": "stderr",
     "output_type": "stream",
     "text": [
      " 39%|███▉      | 234/594 [1:29:50<19:11,  3.20s/it]"
     ]
    },
    {
     "name": "stdout",
     "output_type": "stream",
     "text": [
      "28-30-1280x720-3\n",
      "28-30-1280x720-4\n"
     ]
    },
    {
     "name": "stderr",
     "output_type": "stream",
     "text": [
      " 40%|███▉      | 237/594 [1:30:23<28:56,  4.86s/it]"
     ]
    },
    {
     "name": "stdout",
     "output_type": "stream",
     "text": [
      "281\n"
     ]
    },
    {
     "name": "stderr",
     "output_type": "stream",
     "text": [
      " 40%|████      | 239/594 [1:30:39<31:52,  5.39s/it]"
     ]
    },
    {
     "name": "stdout",
     "output_type": "stream",
     "text": [
      "283\n",
      "284\n",
      "285\n",
      "286\n"
     ]
    },
    {
     "name": "stderr",
     "output_type": "stream",
     "text": [
      " 41%|████      | 244/594 [1:31:00<28:38,  4.91s/it]"
     ]
    },
    {
     "name": "stdout",
     "output_type": "stream",
     "text": [
      "288\n",
      "289\n",
      "29-24-1280x720\n",
      "290\n",
      "291\n",
      "292\n",
      "293\n",
      "294\n",
      "295\n",
      "296\n",
      "297\n",
      "298\n",
      "299\n",
      "3-25-1920x1080\n",
      "30-30-1920x1080_left\n",
      "30-30-1920x1080_right\n",
      "303\n",
      "304\n",
      "305\n",
      "306\n",
      "307\n",
      "308\n"
     ]
    },
    {
     "name": "stderr",
     "output_type": "stream",
     "text": [
      " 45%|████▍     | 267/594 [1:31:28<12:31,  2.30s/it]"
     ]
    },
    {
     "name": "stdout",
     "output_type": "stream",
     "text": [
      "31-30-1920x1080\n",
      "311\n",
      "312\n",
      "313\n",
      "314\n",
      "315\n",
      "317\n",
      "318\n",
      "319\n",
      "32-60-1920x1080\n",
      "320\n",
      "321\n",
      "322\n",
      "323\n",
      "324\n",
      "325\n",
      "326\n",
      "327\n",
      "328\n",
      "329\n"
     ]
    },
    {
     "name": "stderr",
     "output_type": "stream",
     "text": [
      " 48%|████▊     | 287/594 [1:31:47<1:38:11, 19.19s/it]\n"
     ]
    },
    {
     "ename": "KeyboardInterrupt",
     "evalue": "",
     "output_type": "error",
     "traceback": [
      "\u001b[0;31m---------------------------------------------------------------------------\u001b[0m",
      "\u001b[0;31mKeyboardInterrupt\u001b[0m                         Traceback (most recent call last)",
      "Cell \u001b[0;32mIn[115], line 36\u001b[0m\n\u001b[1;32m     34\u001b[0m \u001b[38;5;28;01mfor\u001b[39;00m idx,img \u001b[38;5;129;01min\u001b[39;00m \u001b[38;5;28menumerate\u001b[39m(imgs):\n\u001b[1;32m     35\u001b[0m     frame \u001b[38;5;241m=\u001b[39m \u001b[38;5;28mint\u001b[39m(img\u001b[38;5;241m.\u001b[39msplit(\u001b[38;5;124m\"\u001b[39m\u001b[38;5;124m/\u001b[39m\u001b[38;5;124m\"\u001b[39m)[\u001b[38;5;241m-\u001b[39m\u001b[38;5;241m1\u001b[39m][:\u001b[38;5;241m-\u001b[39m\u001b[38;5;241m4\u001b[39m])\n\u001b[0;32m---> 36\u001b[0m     img_npy \u001b[38;5;241m=\u001b[39m np\u001b[38;5;241m.\u001b[39mload(img)\n\u001b[1;32m     37\u001b[0m     img_npys\u001b[38;5;241m.\u001b[39mappend(img_npy\u001b[38;5;241m.\u001b[39mtolist())\n\u001b[1;32m     38\u001b[0m     \u001b[38;5;28;01mif\u001b[39;00m AU_flag:\n",
      "File \u001b[0;32m~/anaconda3/envs/meta/lib/python3.12/site-packages/numpy/lib/npyio.py:434\u001b[0m, in \u001b[0;36mload\u001b[0;34m(file, mmap_mode, allow_pickle, fix_imports, encoding, max_header_size)\u001b[0m\n\u001b[1;32m    432\u001b[0m _ZIP_SUFFIX \u001b[38;5;241m=\u001b[39m \u001b[38;5;124mb\u001b[39m\u001b[38;5;124m'\u001b[39m\u001b[38;5;124mPK\u001b[39m\u001b[38;5;130;01m\\x05\u001b[39;00m\u001b[38;5;130;01m\\x06\u001b[39;00m\u001b[38;5;124m'\u001b[39m \u001b[38;5;66;03m# empty zip files start with this\u001b[39;00m\n\u001b[1;32m    433\u001b[0m N \u001b[38;5;241m=\u001b[39m \u001b[38;5;28mlen\u001b[39m(\u001b[38;5;28mformat\u001b[39m\u001b[38;5;241m.\u001b[39mMAGIC_PREFIX)\n\u001b[0;32m--> 434\u001b[0m magic \u001b[38;5;241m=\u001b[39m fid\u001b[38;5;241m.\u001b[39mread(N)\n\u001b[1;32m    435\u001b[0m \u001b[38;5;28;01mif\u001b[39;00m \u001b[38;5;129;01mnot\u001b[39;00m magic:\n\u001b[1;32m    436\u001b[0m     \u001b[38;5;28;01mraise\u001b[39;00m \u001b[38;5;167;01mEOFError\u001b[39;00m(\u001b[38;5;124m\"\u001b[39m\u001b[38;5;124mNo data left in file\u001b[39m\u001b[38;5;124m\"\u001b[39m)\n",
      "\u001b[0;31mKeyboardInterrupt\u001b[0m: "
     ]
    }
   ],
   "source": [
    "AU_id, EXPR_id, VA_id = 0,0,0\n",
    "for num, folder in enumerate(tqdm(np_folders)):\n",
    "    AU_flag, EXPR_flag, VA_flag = False, False, False\n",
    "    AU_label, EXPR_label, VA_label = [], [], []\n",
    "    folder_name = folder.split(\"/\")[-1]\n",
    "    AU_id = len(AU_Valid_anno) - 1 if AU_id == len(AU_Valid_anno) else AU_id\n",
    "    EXPR_id = len(EXPR_Valid_anno) - 1 if EXPR_id == len(EXPR_Valid_anno) else EXPR_id\n",
    "    VA_id = len(VA_Valid_anno) - 1 if VA_id == len(VA_Valid_anno) else VA_id\n",
    "    AU_folder = AU_Valid_anno[AU_id].split(\"/\")[-1][:-4]\n",
    "    EXPR_folder = EXPR_Valid_anno[EXPR_id].split(\"/\")[-1][:-4]\n",
    "    VA_folder = VA_Valid_anno[VA_id].split(\"/\")[-1][:-4]\n",
    "    if folder_name == AU_folder:\n",
    "        AU_flag = True\n",
    "        with open(AU_train_anno[AU_id], \"r\") as f:\n",
    "            AU_lines = f.readlines()[1:]\n",
    "        AU_id += 1\n",
    "    if folder_name == EXPR_folder:\n",
    "        EXPR_flag = True\n",
    "        with open(EXPR_train_anno[EXPR_id], \"r\") as f:\n",
    "            EXPR_lines = f.readlines()[1:]\n",
    "        EXPR_id += 1\n",
    "    if folder_name == VA_folder:\n",
    "        VA_flag = True\n",
    "        with open(VA_train_anno[VA_id], \"r\") as f:\n",
    "            VA_lines = f.readlines()[1:]\n",
    "        VA_id += 1\n",
    "    if not AU_flag and not EXPR_flag and not VA_flag:\n",
    "        print(folder_name)\n",
    "        continue\n",
    "    imgs = glob.glob(os.path.join(folder, \"*.npy\"))\n",
    "    imgs.sort()\n",
    "    img_npys =[]\n",
    "    frames = []\n",
    "    for idx,img in enumerate(imgs):\n",
    "        frame = int(img.split(\"/\")[-1][:-4])\n",
    "        img_npy = np.load(img)\n",
    "        img_npys.append(img_npy.tolist())\n",
    "        if AU_flag:\n",
    "            try:\n",
    "                AU_label.append(AU_lines[frame - 1])\n",
    "            except:\n",
    "                AU_label.append(AU_lines[-1])\n",
    "        else:\n",
    "            AU_label.append(np.nan)\n",
    "        if EXPR_flag:\n",
    "            try:\n",
    "                EXPR_label.append(EXPR_lines[frame - 1])\n",
    "            except:\n",
    "                EXPR_label.append(EXPR_lines[-1])\n",
    "        else:\n",
    "            EXPR_label.append(np.nan)\n",
    "        if VA_flag:\n",
    "            try:\n",
    "                VA_label.append(VA_lines[frame - 1])\n",
    "            except:\n",
    "                VA_label.append(VA_lines[-1])\n",
    "        else:\n",
    "            VA_label.append(np.nan)\n",
    "        frames.append(frame)\n",
    "    df = pd.DataFrame({\"frame\": frames, \"vis_feat\":img_npys, \"AU\":AU_label, \"EXPR\":EXPR_label, \"VA\":VA_label})\n",
    "    df.to_csv(f\"/media/minseongjae/HDD/data/AffWild2/anno_valid/{folder_name}.csv\", index=False)"
   ]
  },
  {
   "cell_type": "code",
   "execution_count": null,
   "metadata": {},
   "outputs": [],
   "source": [
    "len(AU_Valid_anno), len(EXPR_Valid_anno), len(VA_Valid_anno), len(np_folders)"
   ]
  },
  {
   "cell_type": "code",
   "execution_count": 254,
   "metadata": {},
   "outputs": [
    {
     "data": {
      "text/plain": [
       "594"
      ]
     },
     "execution_count": 254,
     "metadata": {},
     "output_type": "execute_result"
    }
   ],
   "source": [
    "len(np_folders)"
   ]
  },
  {
   "cell_type": "code",
   "execution_count": 256,
   "metadata": {},
   "outputs": [
    {
     "data": {
      "text/plain": [
       "'/media/minseongjae/HDD/data/AffWild2/Features/480'"
      ]
     },
     "execution_count": 256,
     "metadata": {},
     "output_type": "execute_result"
    }
   ],
   "source": [
    "np_folders[409]"
   ]
  },
  {
   "cell_type": "code",
   "execution_count": 7,
   "metadata": {},
   "outputs": [],
   "source": [
    "import numpy as np\n",
    "import os\n",
    "x  =np.load(os.path.join(\"/media/minseongjae/HDD/data/AffWild2/Features_folder\", \"107-30-640x480\"+\".npy\"))"
   ]
  },
  {
   "cell_type": "code",
   "execution_count": 22,
   "metadata": {},
   "outputs": [
    {
     "data": {
      "text/plain": [
       "(2, 768)"
      ]
     },
     "execution_count": 22,
     "metadata": {},
     "output_type": "execute_result"
    }
   ],
   "source": [
    "np.concatenate([x[0].reshape(1,768), x[1].reshape(1, 768)], axis = 0).shape"
   ]
  },
  {
   "cell_type": "code",
   "execution_count": 27,
   "metadata": {},
   "outputs": [
    {
     "data": {
      "text/plain": [
       "array([-0.24412178,  0.36358696, -0.4863059 ,  0.15220656, -0.68824774,\n",
       "       -0.11408824,  0.5521548 ,  0.23998508, -0.34353992, -0.46407646,\n",
       "       -0.07828164,  0.38783026, -0.22953835,  0.26990372,  0.04730963,\n",
       "        0.24191266,  0.20430985,  0.17431387, -0.5087943 ,  0.46377718,\n",
       "        0.4007464 , -0.390057  ,  0.23495497, -0.05689438,  0.40410578,\n",
       "       -0.35186768,  0.16553123, -0.51364475,  0.4230869 ,  0.15902086,\n",
       "       -0.03272435,  0.46588004,  0.25561666,  0.7693398 , -0.08807903,\n",
       "        0.5677271 ,  0.00330724, -0.44873172,  0.00478145,  0.14327265,\n",
       "       -0.11206926,  0.26651087, -0.34480917,  0.31731066,  0.34825027,\n",
       "       -0.07587732, -0.6857899 ,  0.05849561, -0.00227707,  0.14017063,\n",
       "       -0.14021178, -0.27285036, -0.41771263, -0.11151775, -0.15131764,\n",
       "       -0.01450683, -0.45897335,  0.31521633,  0.1837569 ,  0.2603598 ,\n",
       "        0.44967926, -0.41474533, -0.28321105,  0.05149643,  0.6173276 ,\n",
       "       -0.4270462 ,  0.38621047,  0.14286332,  0.15143599, -0.47856027,\n",
       "        0.10450497,  0.36040217, -0.3372005 ,  0.11475071, -0.6368229 ,\n",
       "       -0.23262243,  0.32651165, -0.38940483,  0.2750434 , -0.01511873,\n",
       "       -0.08925826,  0.00875239, -0.27330384,  0.23412862,  0.31781846,\n",
       "        0.06257609,  0.58544534,  0.12103937,  0.31242466,  0.09500521,\n",
       "        0.66236794, -0.64764225, -0.4677308 ,  0.04209499, -0.05720807,\n",
       "       -0.07811593, -0.15187843,  0.3787682 ,  0.24079584, -0.52386093,\n",
       "        0.13819864,  0.32956037, -0.1800879 ,  0.30835396, -0.08948222,\n",
       "       -0.04592497, -0.40246287,  0.49152508,  0.5781132 , -0.3130593 ,\n",
       "       -0.10468312,  0.42301884, -0.17666623, -0.42932293, -0.265351  ,\n",
       "        0.28720313, -0.42844558, -0.3792117 ,  0.37444988,  0.2197295 ,\n",
       "        0.17911246, -0.10993023,  0.24575748, -0.20254365,  0.11459992,\n",
       "        0.80789053, -0.09500328,  0.23182406,  0.35060894, -0.49923924,\n",
       "        0.07061509,  0.12479164,  0.17382307, -0.05754803,  0.19387303,\n",
       "       -0.12878111,  0.37648663, -0.04905347,  0.6276176 ,  0.02058628,\n",
       "        0.2500517 ,  0.57385886,  0.63359475, -0.35826766, -0.2086483 ,\n",
       "       -0.17631727,  0.45242134, -0.6489539 , -0.78484714,  0.01044403,\n",
       "       -0.01646892, -0.22993216, -0.09700187,  0.2500051 , -0.4002491 ,\n",
       "       -0.01697049,  0.06726237, -0.50499064, -0.1874007 , -0.07386301,\n",
       "        0.33176458,  0.18315941, -0.02369547,  0.20742583, -0.17779452,\n",
       "        0.08107752,  0.26349026, -0.42616087,  0.05217535,  0.22953206,\n",
       "        0.11615162,  0.23071662,  0.03338219, -0.01431069, -0.30683255,\n",
       "        0.567308  , -0.18076548, -0.01420377, -0.15776712,  0.42319334,\n",
       "        0.19328476,  0.57352614, -0.17223   ,  0.49096742,  0.24414453,\n",
       "        0.14711076,  0.12869176,  0.11431472, -0.4886032 ,  0.10608192,\n",
       "        0.02026029,  0.00497958, -0.40153217, -0.05716201, -0.15080628,\n",
       "        0.3900172 , -0.28280416,  0.32539704, -0.15559922, -0.6515151 ,\n",
       "        0.14664601, -0.36748987,  0.38529143, -0.6833715 , -0.5105077 ,\n",
       "       -0.2762138 , -0.04251034, -0.30775532,  0.24762177, -0.05610799,\n",
       "        0.3848808 , -0.61807346, -0.0138491 , -0.12788863,  0.66089094,\n",
       "       -0.40647826,  0.584602  , -0.06927348, -0.20260571,  0.24860115,\n",
       "        0.23528485, -0.11467868,  0.4146273 ,  0.04224164,  0.5802382 ,\n",
       "       -0.19745927,  0.28866744,  0.25260198, -0.43371892,  0.03600175,\n",
       "        0.02617543, -0.13281327, -0.44837633, -0.1523504 ,  0.05804645,\n",
       "       -0.21401939,  0.04731621, -0.69074667,  0.00615413, -0.54575557,\n",
       "        0.36488044,  0.5543369 , -0.10090203, -0.12242117, -0.32658482,\n",
       "        0.30437827,  0.3195293 ,  0.77594334, -0.507088  ,  0.39747244,\n",
       "        0.06215394, -0.31635952,  0.1940377 , -0.13698024,  0.05574019,\n",
       "       -0.25275233,  0.7285947 , -0.6642988 , -0.30718443,  0.4139652 ,\n",
       "       -0.04394477, -0.0978367 ,  0.44045275,  0.20300795,  0.06015268,\n",
       "        0.07824676,  0.13346234, -0.5887991 ,  0.03898283,  0.58868515,\n",
       "        0.15413038,  0.04653883, -0.10160657,  0.35221416,  0.5192573 ,\n",
       "        0.09855922, -0.02688343,  0.4218746 ,  0.24236773,  0.1613495 ,\n",
       "       -0.69970316,  0.5268156 ,  0.20959456,  0.31908837, -0.34210452,\n",
       "       -0.5017187 ,  0.19587442, -0.23980582, -0.555134  ,  0.16772453,\n",
       "        0.44851422,  0.39042112,  0.4363928 ,  0.23458801,  0.359656  ,\n",
       "        0.24706365, -0.27902824,  0.13862376, -0.7715721 ,  0.3128162 ,\n",
       "        0.65368664, -0.31601986, -0.30943787,  0.08301909, -0.00204088,\n",
       "        0.11599518,  0.37312946,  0.0678768 ,  0.5561766 , -0.29397535,\n",
       "        0.11518415,  0.30095896,  0.08908128, -0.83546984, -0.12722051,\n",
       "        0.2906048 ,  0.04062195, -0.27878648, -0.30751255,  0.3043729 ,\n",
       "       -0.00682732,  0.04360402,  0.7210913 , -0.23098063, -0.45916176,\n",
       "        0.04893592, -0.10140311,  0.3254664 , -0.26538864, -0.23616008,\n",
       "       -0.3618529 , -0.3691605 ,  0.06514337, -0.48444438,  0.08951434,\n",
       "        0.5337272 , -0.25085318, -0.17342988, -0.38879517,  0.24149975,\n",
       "        0.0015537 , -0.04596311, -0.58388984, -0.32953027, -0.45398325,\n",
       "       -0.00883167, -0.06454597,  0.09614324,  0.07050657, -0.5732798 ,\n",
       "       -0.04885228,  0.09352113,  0.11961555,  0.1618865 , -0.42078584,\n",
       "       -0.31788102, -0.05904381,  0.4320798 , -0.22424671, -0.4891323 ,\n",
       "       -0.11895566,  0.17647836, -0.18955027, -0.51326305, -0.01885906,\n",
       "        0.18901357,  0.49907127,  0.09269148,  0.33691424,  0.21369924,\n",
       "        0.35753596,  0.60777766, -0.60267675,  0.1209002 , -0.10139383,\n",
       "        0.08814683,  0.67402375, -0.07423586,  0.27282718, -0.04111877,\n",
       "        0.4152267 ,  0.26844344, -0.07562415, -0.06387263,  0.8087178 ,\n",
       "        0.35192126, -0.38279954, -0.23763628, -0.14852965, -0.14382638,\n",
       "       -0.19910607,  0.29959306,  0.48915046,  0.7150098 , -0.6353938 ,\n",
       "        0.552668  , -0.5498381 ,  0.08283792,  0.22721489, -0.02022278,\n",
       "       -0.01866657,  0.3924796 ,  0.03893878,  0.249237  ,  0.18420614,\n",
       "        0.19420591, -0.9408861 , -0.05068459, -0.18314543,  0.2008709 ,\n",
       "        0.02939045, -0.6390135 , -0.31125477, -0.08947273, -0.45997408,\n",
       "        0.2892838 ,  0.45880243,  0.03382706, -0.23563732, -0.3245452 ,\n",
       "        0.30417153,  0.12221324, -0.39225414,  0.47940257,  0.30288935,\n",
       "       -0.23847744, -0.64897156,  0.46978265, -0.30812004,  0.13844639,\n",
       "       -0.07090294, -0.49517938, -0.06017482, -0.61009014, -0.19962953,\n",
       "        0.04698677,  0.2032749 ,  0.10725361, -0.15790983,  0.43809557,\n",
       "       -0.43217102,  0.27012014, -0.25956416,  0.03940793, -0.3389323 ,\n",
       "       -0.2509373 , -0.31963915, -0.41414633,  0.22593589, -0.02817548,\n",
       "        0.24035935, -0.37521586, -0.32951367,  0.01805497, -0.09790417,\n",
       "       -0.4359585 ,  0.29919112,  0.09036781, -0.47878256, -0.16362908,\n",
       "        0.40742236, -0.6180278 , -0.4130906 ,  0.5741743 ,  0.15032186,\n",
       "       -0.1837607 ,  0.25938553,  0.67637146, -0.0945842 , -0.29767707,\n",
       "        0.59213316,  0.19926462,  0.10332386, -0.20210959, -0.14697333,\n",
       "       -0.42173055, -0.08002723, -0.61518323,  0.30724248,  0.07893165,\n",
       "        0.16331245, -0.02095186, -0.28419718, -0.06132929, -0.22600383,\n",
       "       -0.42175865,  0.24320541, -0.16498253,  0.64670944,  0.39189222,\n",
       "        0.01222389,  0.00735498, -0.34076822, -0.07729293,  0.52705437,\n",
       "        0.41703025,  0.4006554 ,  0.5790263 , -0.40925956,  0.20103799,\n",
       "        0.4578024 ,  0.3981342 ,  0.2565336 ,  0.8187851 , -0.43757352,\n",
       "        0.10496189, -0.12430633,  0.22578858, -0.19949715,  0.16042657,\n",
       "       -0.20040621,  0.5443769 ,  0.22228651,  0.5027056 ,  0.20664328,\n",
       "       -0.44000778, -0.54106605,  0.2110131 ,  0.1783886 , -0.24766251,\n",
       "       -0.9451872 , -0.57156765, -0.6849218 , -0.14853035, -0.7960223 ,\n",
       "       -0.02876363, -0.05646823,  0.07370134,  0.21221238,  0.44668564,\n",
       "       -0.27302682, -0.47511518,  0.10502055,  0.28986797,  0.4122604 ,\n",
       "       -0.07511982, -0.5807438 , -0.64392376,  0.24398622, -0.11275732,\n",
       "       -0.36793464, -0.13142349,  0.06853592, -0.02130095,  0.24262409,\n",
       "        0.09964751,  0.31507555,  0.81695586,  0.27497104, -0.57497406,\n",
       "       -0.42405534, -0.26762086, -0.41085145, -0.58621037,  0.02586927,\n",
       "        0.17071326, -0.4000781 , -0.26877216,  0.5001109 , -0.22582509,\n",
       "        0.62019867, -0.34680375,  0.24394432,  0.31086898, -0.6124033 ,\n",
       "        0.684371  , -0.48701364, -0.27752125, -0.57409984,  0.14257818,\n",
       "       -0.34492403, -0.08383201, -0.06303243,  0.51520103,  0.6255264 ,\n",
       "        0.06353147, -0.16567689, -0.6088227 , -0.04446352, -0.04499834,\n",
       "       -0.49526882, -0.03757153, -0.33093134,  0.22838615,  0.07735766,\n",
       "       -0.32986152,  0.03692459, -0.09600879,  0.05384063, -0.34061188,\n",
       "        0.34871262,  0.03877337, -0.34797823, -0.45739597, -0.24811642,\n",
       "       -0.07306099, -0.12594035, -0.27438408, -0.2940956 , -0.07354958,\n",
       "        0.29318026,  0.37440762, -0.22441728, -0.0828105 ,  0.27328447,\n",
       "       -0.01000801,  0.8029999 , -0.19435953, -0.2588359 ,  0.24510895,\n",
       "        0.17853613,  0.45384124,  0.7490678 ,  0.5370076 , -0.5906188 ,\n",
       "        0.2698032 ,  0.03076225,  0.17301619,  0.6946566 ,  0.02257924,\n",
       "        0.53243184,  0.22285952, -0.4537813 , -0.16755822, -0.04982972,\n",
       "       -0.15346359, -0.229428  ,  0.032141  , -0.03998199,  0.09419774,\n",
       "        0.3187976 , -0.31157988, -0.99166876, -0.39203787,  0.23458424,\n",
       "        0.14554305, -0.3881835 ,  0.05258318, -0.641346  , -0.62737703,\n",
       "        0.46936098,  0.20368925, -0.23621407,  0.14184919, -0.5851249 ,\n",
       "       -0.45103002,  0.49318895, -0.15305287,  0.42980948,  0.58799016,\n",
       "       -0.22416118, -0.15968058,  0.19486912, -0.43285927, -0.7464211 ,\n",
       "       -0.16897374, -0.04335824,  0.1878126 , -0.39175788, -0.0579138 ,\n",
       "        0.18711327,  0.6152302 , -0.24927855,  0.46845958, -0.20650962,\n",
       "        0.38285735, -0.21726406,  0.02149503, -0.46127206,  0.46599013,\n",
       "        0.2242462 , -0.4651567 , -0.31291792,  0.13361615,  0.04446254,\n",
       "        0.07613835,  0.5990391 , -0.06849167, -0.2289283 ,  0.00829163,\n",
       "       -0.11875528,  0.3269236 , -0.41240042, -0.5753373 , -0.15506189,\n",
       "        0.08736646, -0.22471617,  0.29975146, -0.08240791, -0.18833053,\n",
       "       -0.5159056 ,  0.7478367 , -0.11022601, -0.25490373, -0.42896503,\n",
       "       -0.55134445,  0.02635249,  0.02461204, -0.5609595 ,  0.4321044 ,\n",
       "       -0.5501034 , -0.65175426,  0.1146318 ,  0.09116658, -0.1676073 ,\n",
       "       -0.53311616, -0.14971708, -0.25838023,  0.1440587 , -0.13722491,\n",
       "       -0.506065  , -0.46075878,  0.55062604,  0.30818632, -0.33363554,\n",
       "       -0.1100865 ,  0.6472436 ,  0.4805045 ,  0.05602314,  0.05020894,\n",
       "        0.12381687,  0.11141828,  0.24776721, -0.12437161,  0.739203  ,\n",
       "       -0.2518406 , -0.4390996 ,  0.18469423, -0.461124  ,  0.06414487,\n",
       "        0.19320358, -0.01550377, -0.7859869 , -0.17108111, -0.43383777,\n",
       "        0.64918137, -0.24493025, -0.09526025,  0.19696985,  0.63790286,\n",
       "        0.5610203 , -0.19382906, -0.07134609, -0.06348749, -0.3444462 ,\n",
       "       -0.57349527,  0.6538161 ,  0.12002522,  0.01747311, -0.00948661,\n",
       "        0.57541573, -0.1574809 , -0.6027482 , -0.6751572 ,  0.7687299 ,\n",
       "       -0.21680245, -0.5347414 , -0.33823338, -0.2708062 ,  0.04126382,\n",
       "       -0.34526572, -0.26571402,  0.18338598,  0.36492002,  0.3414099 ,\n",
       "        0.39002988,  0.6991147 , -0.5031109 ], dtype=float32)"
      ]
     },
     "execution_count": 27,
     "metadata": {},
     "output_type": "execute_result"
    }
   ],
   "source": [
    "x[:5][-1]"
   ]
  },
  {
   "cell_type": "code",
   "execution_count": 55,
   "metadata": {},
   "outputs": [
    {
     "data": {
      "text/plain": [
       "(1, 768)"
      ]
     },
     "execution_count": 55,
     "metadata": {},
     "output_type": "execute_result"
    }
   ],
   "source": [
    "last_layer = x[:5][-1]\n",
    "last_layer.reshape(1, 768).shape"
   ]
  },
  {
   "cell_type": "code",
   "execution_count": 56,
   "metadata": {},
   "outputs": [],
   "source": [
    "last_layer = last_layer.reshape(1, 768)"
   ]
  },
  {
   "cell_type": "code",
   "execution_count": 57,
   "metadata": {},
   "outputs": [
    {
     "data": {
      "text/plain": [
       "(10, 768)"
      ]
     },
     "execution_count": 57,
     "metadata": {},
     "output_type": "execute_result"
    }
   ],
   "source": [
    "expanded_last_layer = np.tile(last_layer, (10, 1))\n",
    "expanded_last_layer.shape"
   ]
  },
  {
   "cell_type": "code",
   "execution_count": 58,
   "metadata": {},
   "outputs": [
    {
     "data": {
      "text/plain": [
       "(15, 768)"
      ]
     },
     "execution_count": 58,
     "metadata": {},
     "output_type": "execute_result"
    }
   ],
   "source": [
    "np.concatenate([x[:5], expanded_last_layer], axis = 0).shape"
   ]
  },
  {
   "cell_type": "code",
   "execution_count": 31,
   "metadata": {},
   "outputs": [
    {
     "name": "stderr",
     "output_type": "stream",
     "text": [
      "100%|██████████| 594/594 [2:14:27<00:00, 13.58s/it]   \n"
     ]
    }
   ],
   "source": [
    "import os\n",
    "from tqdm import tqdm\n",
    "from glob import glob\n",
    "import numpy as np\n",
    "\n",
    "dataset_root = '/media/minseongjae/HDD/data/AffWild2/Features'\n",
    "feature_folders = os.listdir(dataset_root)\n",
    "for feature_folder in tqdm(feature_folders):\n",
    "    features = os.listdir(os.path.join(dataset_root,feature_folder))\n",
    "    npys = []\n",
    "    tot = len(features)\n",
    "    for i, feature in enumerate(features):\n",
    "        feature_path = os.path.join(dataset_root,feature_folder,feature)\n",
    "        npys.append(np.load(feature_path))\n",
    "    npys = np.array(npys)\n",
    "    save_path = os.path.join(dataset_root+\"_folder\",feature_folder+\".npy\")\n",
    "    np.save(save_path,npys)"
   ]
  },
  {
   "cell_type": "code",
   "execution_count": null,
   "metadata": {},
   "outputs": [],
   "source": [
    "len(feature_folders)"
   ]
  },
  {
   "cell_type": "code",
   "execution_count": 1,
   "metadata": {},
   "outputs": [],
   "source": [
    "from dataset import MyDataset\n",
    "from utils import get_config\n",
    "\n",
    "cfg = get_config('configs/config.yaml')\n",
    "data_path = \"/media/minseongjae/HDD/data/AffWild2/Features_folder\"\n",
    "anno_path = \"/media/minseongjae/HDD/data/AffWild2/6th ABAW Annotations\"\n",
    "task = cfg['task']\n",
    "if task == 'VA':\n",
    "    num_classes = 2\n",
    "elif task == 'EXPR':\n",
    "    num_classes = 8\n",
    "elif task == 'AU':\n",
    "    num_classes = 12\n",
    "\n",
    "train_set = MyDataset(dataset_root=data_path, anno_path=anno_path, task=task, split='Train', num_classes=num_classes, window_size=20, stride=1)\n",
    "\n",
    "from torch.utils.data import DataLoader\n",
    "\n",
    "train_loader = DataLoader(train_set, batch_size=32, shuffle=False, num_workers=4, pin_memory=True)\n",
    "# retrun batchsize * get item (idx) random idx"
   ]
  },
  {
   "cell_type": "code",
   "execution_count": 2,
   "metadata": {},
   "outputs": [
    {
     "data": {
      "text/plain": [
       "(torch.Size([32, 20, 768]), torch.Size([32, 1, 8]))"
      ]
     },
     "execution_count": 2,
     "metadata": {},
     "output_type": "execute_result"
    }
   ],
   "source": [
    "data = next(iter(train_loader))\n",
    "data['vis_feat'].shape, data['anno'].shape"
   ]
  },
  {
   "cell_type": "code",
   "execution_count": 50,
   "metadata": {},
   "outputs": [
    {
     "data": {
      "text/plain": [
       "(1022, 768)"
      ]
     },
     "execution_count": 50,
     "metadata": {},
     "output_type": "execute_result"
    }
   ],
   "source": [
    "import numpy as np\n",
    "x = np.load(\"/media/minseongjae/HDD/data/AffWild2/Features_folder/360.npy\")\n",
    "x.shape"
   ]
  },
  {
   "cell_type": "code",
   "execution_count": 51,
   "metadata": {},
   "outputs": [],
   "source": [
    "import os\n",
    "file = os.path.join(anno_path, f\"EXPR_Recognition_Challenge\",\"Train_Set\",\"360.txt\")"
   ]
  },
  {
   "cell_type": "code",
   "execution_count": 56,
   "metadata": {},
   "outputs": [
    {
     "name": "stdout",
     "output_type": "stream",
     "text": [
      "/media/minseongjae/HDD/data/AffWild2/Features_folder/1-30-1280x720.npy\n",
      "/media/minseongjae/HDD/data/AffWild2/Features_folder/1-30-1280x720.npy /media/minseongjae/HDD/data/AffWild2/6th ABAW Annotations/EXPR_Recognition_Challenge/Train_Set/1-30-1280x720.txt\n"
     ]
    }
   ],
   "source": [
    "import glob\n",
    "for x,y in zip(glob.glob(\"/media/minseongjae/HDD/data/AffWild2/Features_folder/*.npy\"), glob.glob(os.path.join(anno_path, f\"EXPR_Recognition_Challenge\",\"Train_Set\",\"*.txt\"))):\n",
    "    print(x)\n",
    "    npy = np.load(x)\n",
    "    with open(y, \"r\") as f:\n",
    "        lines = f.readlines()[1:]\n",
    "    if len(npy) != len(lines):\n",
    "        print(x, y) \n",
    "        break              "
   ]
  },
  {
   "cell_type": "code",
   "execution_count": 52,
   "metadata": {},
   "outputs": [],
   "source": [
    "with open(file, 'r') as file:\n",
    "    anno_lines = file.readlines()[1:]"
   ]
  },
  {
   "cell_type": "code",
   "execution_count": 53,
   "metadata": {},
   "outputs": [
    {
     "data": {
      "text/plain": [
       "3509"
      ]
     },
     "execution_count": 53,
     "metadata": {},
     "output_type": "execute_result"
    }
   ],
   "source": [
    "len(anno_lines)"
   ]
  },
  {
   "cell_type": "code",
   "execution_count": 45,
   "metadata": {},
   "outputs": [
    {
     "data": {
      "text/plain": [
       "'0\\n'"
      ]
     },
     "execution_count": 45,
     "metadata": {},
     "output_type": "execute_result"
    }
   ],
   "source": [
    "anno_lines[0]"
   ]
  },
  {
   "cell_type": "code",
   "execution_count": 11,
   "metadata": {},
   "outputs": [
    {
     "data": {
      "text/plain": [
       "1819"
      ]
     },
     "execution_count": 11,
     "metadata": {},
     "output_type": "execute_result"
    }
   ],
   "source": [
    "len(os.listdir(\"/media/minseongjae/HDD/data/AffWild2/Features/93-24-640x360/\"))"
   ]
  },
  {
   "cell_type": "code",
   "execution_count": 16,
   "metadata": {},
   "outputs": [
    {
     "ename": "TypeError",
     "evalue": "object of type 'NoneType' has no len()",
     "output_type": "error",
     "traceback": [
      "\u001b[0;31m---------------------------------------------------------------------------\u001b[0m",
      "\u001b[0;31mTypeError\u001b[0m                                 Traceback (most recent call last)",
      "Cell \u001b[0;32mIn[16], line 1\u001b[0m\n\u001b[0;32m----> 1\u001b[0m \u001b[38;5;28mlen\u001b[39m(anno_lines\u001b[38;5;241m.\u001b[39mremove(\u001b[38;5;124m'\u001b[39m\u001b[38;5;124m0.0,0.0\u001b[39m\u001b[38;5;130;01m\\n\u001b[39;00m\u001b[38;5;124m'\u001b[39m))\n",
      "\u001b[0;31mTypeError\u001b[0m: object of type 'NoneType' has no len()"
     ]
    }
   ],
   "source": [
    "anno_lines.remove('0.0,0.0\\n')"
   ]
  },
  {
   "cell_type": "code",
   "execution_count": 20,
   "metadata": {},
   "outputs": [],
   "source": [
    "while '0.0,0.0\\n' in anno_lines:\n",
    "    anno_lines.remove('0.0,0.0\\n')"
   ]
  },
  {
   "cell_type": "code",
   "execution_count": 30,
   "metadata": {},
   "outputs": [
    {
     "name": "stdout",
     "output_type": "stream",
     "text": [
      "0.0 0.164\n",
      "0.0 0.164\n",
      "0.0 0.148\n",
      "0.0 0.148\n",
      "0.0 0.133\n",
      "0.133 0.0\n",
      "0.133 0.0\n",
      "0.133 0.0\n",
      "0.133 0.0\n",
      "0.097 0.0\n",
      "0.06 0.0\n",
      "0.054 0.0\n",
      "0.038 0.0\n",
      "0.038 0.0\n",
      "0.038 0.0\n",
      "0.038 0.0\n",
      "0.038 0.0\n",
      "0.038 0.0\n",
      "0.038 0.0\n",
      "0.032 0.0\n",
      "0.026 0.0\n",
      "0.014 0.0\n",
      "0.014 0.0\n",
      "0.054 0.0\n",
      "0.43 0.574\n",
      "0.464 0.614\n",
      "0.464 0.614\n",
      "0.464 0.614\n",
      "0.464 0.614\n",
      "0.464 0.614\n",
      "0.464 0.614\n",
      "0.464 0.614\n",
      "0.464 0.614\n",
      "0.464 0.614\n",
      "0.464 0.614\n",
      "0.464 0.614\n",
      "0.464 0.614\n",
      "0.464 0.614\n",
      "0.464 0.614\n",
      "0.464 0.614\n",
      "0.464 0.614\n",
      "0.464 0.614\n",
      "0.409 0.614\n",
      "0.409 0.614\n",
      "0.409 0.614\n",
      "0.409 0.614\n",
      "0.409 0.614\n",
      "0.409 0.614\n",
      "0.409 0.614\n",
      "0.424 0.614\n",
      "0.424 0.614\n",
      "0.424 0.614\n",
      "0.424 0.614\n",
      "0.424 0.614\n",
      "0.424 0.614\n",
      "0.424 0.614\n",
      "0.424 0.614\n",
      "0.424 0.614\n",
      "0.424 0.614\n",
      "0.424 0.614\n",
      "0.424 0.614\n",
      "61\n"
     ]
    }
   ],
   "source": [
    "i=0\n",
    "for x in anno_lines:\n",
    "    a,b = x.split(',')\n",
    "    b = b[:-1]\n",
    "    a,b = float(a), float(b)\n",
    "    if a<=0 or b <=0:\n",
    "        print(a,b)\n",
    "        i+=1\n",
    "    if a + b >=1:\n",
    "        print(a,b)\n",
    "        i+=1\n",
    "print(i)"
   ]
  },
  {
   "cell_type": "code",
   "execution_count": 57,
   "metadata": {},
   "outputs": [],
   "source": [
    "import numpy as np\n",
    "import glob\n",
    "import os"
   ]
  },
  {
   "cell_type": "code",
   "execution_count": 61,
   "metadata": {},
   "outputs": [
    {
     "data": {
      "text/plain": [
       "(1819, 768)"
      ]
     },
     "execution_count": 61,
     "metadata": {},
     "output_type": "execute_result"
    }
   ],
   "source": [
    "x = np.load(\"/media/minseongjae/HDD/data/AffWild2/Features_folder/93-24-640x360.npy\")\n",
    "x.shape"
   ]
  },
  {
   "cell_type": "code",
   "execution_count": 71,
   "metadata": {},
   "outputs": [
    {
     "name": "stdout",
     "output_type": "stream",
     "text": [
      "21\n"
     ]
    }
   ],
   "source": [
    "last_frame = 0\n",
    "for num in os.listdir(\"/media/minseongjae/HDD/data/AffWild2/Features/93-24-640x360/\"):\n",
    "    frame = num.split(\".\")[0]\n",
    "    frame = int(frame)\n",
    "    if frame != last_frame + 1:\n",
    "        print(frame)\n",
    "        break\n",
    "    last_frame = frame"
   ]
  },
  {
   "cell_type": "code",
   "execution_count": 160,
   "metadata": {},
   "outputs": [],
   "source": [
    "for npys in glob.glob(\"/media/minseongjae/HDD/data/AffWild2/Features_folder/*.npy\"):\n",
    "    file_name = npys.split(\"/\")[-1][:-4]\n",
    "    img_folder = f\"/media/minseongjae/HDD/data/AffWild2/Features/{file_name}/\"\n",
    "    img_list = os.listdir(img_folder)\n",
    "    img_list.sort(key=lambda x: x[:-4])\n",
    "    feats = np.load(npys)\n",
    "    frame_list = []\n",
    "    for frame in  (img_list):\n",
    "        frame = frame.split(\".\")[0]\n",
    "        frame = int(frame)\n",
    "        frame_list.append(frame)\n",
    "    frame_list = np.array(frame_list)\n",
    "    feats = np.hstack((frame_list.reshape(-1,1), feats))\n",
    "    np.save(f\"/media/minseongjae/HDD/data/AffWild2/Features_folder_frame/{file_name}.npy\", feats)\n"
   ]
  },
  {
   "cell_type": "code",
   "execution_count": 141,
   "metadata": {},
   "outputs": [
    {
     "name": "stdout",
     "output_type": "stream",
     "text": [
      "(10000, 768)\n"
     ]
    }
   ],
   "source": [
    "import numpy as np\n",
    "\n",
    "# 예시 데이터 (실제 데이터에 대한 예시)\n",
    "array_2d = np.random.rand(10000, 768)\n",
    "value_to_insert = 42  # 추가하고자 하는 값\n",
    "new_column = np.full((array_2d.shape[0], 1), value_to_insert)\n",
    "array_2d = np.hstack((new_column, array_2d))\n",
    "\n",
    "print(array_2d.shape)"
   ]
  },
  {
   "cell_type": "code",
   "execution_count": 166,
   "metadata": {},
   "outputs": [
    {
     "data": {
      "text/plain": [
       "1.0"
      ]
     },
     "execution_count": 166,
     "metadata": {},
     "output_type": "execute_result"
    }
   ],
   "source": [
    "feats[0][0]"
   ]
  },
  {
   "cell_type": "code",
   "execution_count": 161,
   "metadata": {},
   "outputs": [
    {
     "data": {
      "text/plain": [
       "(7063, 769)"
      ]
     },
     "execution_count": 161,
     "metadata": {},
     "output_type": "execute_result"
    }
   ],
   "source": [
    "x = np.load(f\"/media/minseongjae/HDD/data/AffWild2/Features_folder_frame/{file_name}.npy\")\n",
    "x.shape"
   ]
  },
  {
   "cell_type": "code",
   "execution_count": 195,
   "metadata": {},
   "outputs": [
    {
     "data": {
      "text/plain": [
       "array([ 1.,  2.,  3.,  4.,  5.,  6.,  7.,  8.,  9., 10.])"
      ]
     },
     "execution_count": 195,
     "metadata": {},
     "output_type": "execute_result"
    }
   ],
   "source": [
    "frame_name = x[:,0]\n",
    "frame_name[:10]"
   ]
  },
  {
   "cell_type": "code",
   "execution_count": 211,
   "metadata": {},
   "outputs": [],
   "source": [
    "x = np.where(frame_name == 100000)[0]\n",
    "if x.size != 0:\n",
    "    print(\"None\")"
   ]
  },
  {
   "cell_type": "code",
   "execution_count": 194,
   "metadata": {},
   "outputs": [
    {
     "data": {
      "text/plain": [
       "10"
      ]
     },
     "execution_count": 194,
     "metadata": {},
     "output_type": "execute_result"
    }
   ],
   "source": [
    "vis_feat[11:21].shape[0]"
   ]
  },
  {
   "cell_type": "code",
   "execution_count": 212,
   "metadata": {},
   "outputs": [],
   "source": [
    "import pandas as pd\n"
   ]
  },
  {
   "cell_type": "code",
   "execution_count": 232,
   "metadata": {},
   "outputs": [
    {
     "data": {
      "text/html": [
       "<div>\n",
       "<style scoped>\n",
       "    .dataframe tbody tr th:only-of-type {\n",
       "        vertical-align: middle;\n",
       "    }\n",
       "\n",
       "    .dataframe tbody tr th {\n",
       "        vertical-align: top;\n",
       "    }\n",
       "\n",
       "    .dataframe thead th {\n",
       "        text-align: right;\n",
       "    }\n",
       "</style>\n",
       "<table border=\"1\" class=\"dataframe\">\n",
       "  <thead>\n",
       "    <tr style=\"text-align: right;\">\n",
       "      <th></th>\n",
       "      <th>folder_name</th>\n",
       "      <th>frame</th>\n",
       "      <th>total_path</th>\n",
       "    </tr>\n",
       "  </thead>\n",
       "  <tbody>\n",
       "  </tbody>\n",
       "</table>\n",
       "</div>"
      ],
      "text/plain": [
       "Empty DataFrame\n",
       "Columns: [folder_name, frame, total_path]\n",
       "Index: []"
      ]
     },
     "execution_count": 232,
     "metadata": {},
     "output_type": "execute_result"
    }
   ],
   "source": [
    "len_df = pd.DataFrame({\"folder_name\" : [], \"frame\" : [], \"total_path\" : []})\n",
    "len_df"
   ]
  },
  {
   "cell_type": "code",
   "execution_count": 242,
   "metadata": {},
   "outputs": [],
   "source": [
    "npy_list = glob.glob(\"/media/minseongjae/HDD/data/AffWild2/Features_folder_frame/*.npy\")\n",
    "'''folder_name, frames, total_path = [], [], []\n",
    "for npy in npy_list:\n",
    "    file_name = npy.split(\"/\")[-1][:-4]\n",
    "    vis_feat = np.load(npy)\n",
    "    frame_name = vis_feat[:,0]\n",
    "    vis_feat = vis_feat[:,1:]\n",
    "    for frame in frame_name:\n",
    "        folder_name.append(file_name)\n",
    "        frames.append(frame)\n",
    "        total_path.append(file_name + \"/\" + str(int(frame)).zfill(5))\n",
    "len_df = pd.DataFrame({\"folder_name\" : folder_name, \"frame\" : frames, \"total_path\" : total_path})'''"
   ]
  },
  {
   "cell_type": "code",
   "execution_count": 243,
   "metadata": {},
   "outputs": [],
   "source": [
    "len_df.to_csv(\"/media/minseongjae/HDD/data/AffWild2/len.csv\", index=False)"
   ]
  },
  {
   "cell_type": "code",
   "execution_count": 258,
   "metadata": {},
   "outputs": [],
   "source": [
    "def validate_and_process_anno(task, anno):\n",
    "    \"\"\"\n",
    "    Validate and process a single annotation line based on the task.\n",
    "    \n",
    "    Args:\n",
    "        anno (str): The annotation line as a string.\n",
    "        \n",
    "    Returns:\n",
    "        tuple: (valid_data, processed_anno) where valid_data is a boolean indicating \n",
    "                whether the annotation is valid, and processed_anno is the processed annotation.\n",
    "    \"\"\"\n",
    "    if task == 'AU':\n",
    "        anno = [int(i) for i in anno.split(',')]\n",
    "        valid_data = all(num >= 0 for num in anno)\n",
    "    elif task == 'EXPR':\n",
    "        try:\n",
    "            num = int(anno)\n",
    "            anno = [0.0] * num_classes\n",
    "            if num >= 0:\n",
    "                anno[num] = 1.0\n",
    "                valid_data = True\n",
    "            else:\n",
    "                valid_data = False\n",
    "        except ValueError:\n",
    "            valid_data = False\n",
    "    else:  # VA Task\n",
    "        anno = [float(i) for i in anno.split(',')]\n",
    "        valid_data = all(-1 <= num <= 1 for num in anno)\n",
    "    return valid_data"
   ]
  },
  {
   "cell_type": "code",
   "execution_count": 268,
   "metadata": {},
   "outputs": [
    {
     "name": "stderr",
     "output_type": "stream",
     "text": [
      "  0%|          | 0/594 [00:00<?, ?it/s, npy: /media/minseongjae/HDD/data/AffWild2/Features_folder_frame/1-30-1280x720.npy, file_name: 1-30-1280x720, AU_folder: 10-60-1280x720, EXPR_folder: 1-30-1280x720, VA_folder: 10-60-1280x720]"
     ]
    },
    {
     "name": "stderr",
     "output_type": "stream",
     "text": [
      "100%|██████████| 594/594 [00:06<00:00, 98.87it/s, 68-24-1920x1080]                                                                                                                                                                                                     \n"
     ]
    }
   ],
   "source": [
    "AU_id, EXPR_id, VA_id = 0,0,0\n",
    "AU_folder_name, AU_frames, AU_total_path = [], [], []\n",
    "EXPR_folder_name, EXPR_frames, EXPR_total_path = [], [], []\n",
    "VA_folder_name, VA_frames, VA_total_path = [], [], []\n",
    "pbar = tqdm(npy_list)\n",
    "for npy in pbar:\n",
    "    AU_flag, EXPR_flag, VA_flag = False, False, False\n",
    "    file_name = npy.split(\"/\")[-1][:-4]\n",
    "\n",
    "    vis_feat = np.load(npy)\n",
    "    frame_name = vis_feat[:,0]\n",
    "    AU_folder = AU_train_anno[AU_id].split(\"/\")[-1][:-4]\n",
    "    EXPR_folder = EXPR_train_anno[EXPR_id].split(\"/\")[-1][:-4]\n",
    "    VA_folder = VA_train_anno[VA_id].split(\"/\")[-1][:-4]\n",
    "    pbar.set_postfix_str(f\"npy: {npy}, file_name: {file_name}, AU_folder: {AU_folder}, EXPR_folder: {EXPR_folder}, VA_folder: {VA_folder}\")\n",
    "\n",
    "    if folder_name == AU_folder:\n",
    "        AU_flag = True\n",
    "        with open(AU_train_anno[AU_id], \"r\") as f:\n",
    "            AU_lines = f.readlines()[1:]\n",
    "        AU_id += 1\n",
    "    if folder_name == EXPR_folder:\n",
    "        EXPR_flag = True\n",
    "        with open(EXPR_train_anno[EXPR_id], \"r\") as f:\n",
    "            EXPR_lines = f.readlines()[1:]\n",
    "        EXPR_id += 1\n",
    "    if folder_name == VA_folder:\n",
    "        VA_flag = True\n",
    "        with open(VA_train_anno[VA_id], \"r\") as f:\n",
    "            VA_lines = f.readlines()[1:]\n",
    "        VA_id += 1\n",
    "    if not AU_flag and not EXPR_flag and not VA_flag:\n",
    "        pbar.set_postfix_str(file_name)\n",
    "        continue\n",
    "    for frame in frame_name:\n",
    "        if AU_flag:\n",
    "            AU_folder_name.append(file_name)\n",
    "            AU_frames.append(frame)\n",
    "            AU_total_path.append(file_name + \"/\" + str(int(frame)).zfill(5))\n",
    "        if EXPR_flag:\n",
    "            EXPR_folder_name.append(file_name)\n",
    "            EXPR_frames.append(frame)\n",
    "            EXPR_total_path.append(file_name + \"/\" + str(int(frame)).zfill(5))\n",
    "        if VA_flag:\n",
    "            VA_folder_name.append(file_name)\n",
    "            VA_frames.append(frame)\n",
    "            VA_total_path.append(file_name + \"/\" + str(int(frame)).zfill(5))\n",
    "AU_df = pd.DataFrame({\"folder_name\" : AU_folder_name, \"frame\" : AU_frames, \"total_path\" : AU_total_path})\n",
    "EXPR_df = pd.DataFrame({\"folder_name\" : EXPR_folder_name, \"frame\" : EXPR_frames, \"total_path\" : EXPR_total_path})\n",
    "VA_df = pd.DataFrame({\"folder_name\" : VA_folder_name, \"frame\" : VA_frames, \"total_path\" : VA_total_path})\n",
    "AU_df.to_csv(\"/media/minseongjae/HDD/data/AffWild2/AU_len.csv\", index=False)\n",
    "EXPR_df.to_csv(\"/media/minseongjae/HDD/data/AffWild2/EXPR_len.csv\", index=False)\n",
    "VA_df.to_csv(\"/media/minseongjae/HDD/data/AffWild2/VA_len.csv\", index=False)"
   ]
  },
  {
   "cell_type": "code",
   "execution_count": 260,
   "metadata": {},
   "outputs": [
    {
     "data": {
      "text/plain": [
       "['/media/minseongjae/HDD/data/AffWild2/Features_folder_frame/1-30-1280x720.npy',\n",
       " '/media/minseongjae/HDD/data/AffWild2/Features_folder_frame/10-60-1280x720.npy',\n",
       " '/media/minseongjae/HDD/data/AffWild2/Features_folder_frame/10-60-1280x720_right.npy',\n",
       " '/media/minseongjae/HDD/data/AffWild2/Features_folder_frame/100-29-1080x1920.npy',\n",
       " '/media/minseongjae/HDD/data/AffWild2/Features_folder_frame/101-30-1080x1920.npy',\n",
       " '/media/minseongjae/HDD/data/AffWild2/Features_folder_frame/102-30-640x360.npy',\n",
       " '/media/minseongjae/HDD/data/AffWild2/Features_folder_frame/102.npy',\n",
       " '/media/minseongjae/HDD/data/AffWild2/Features_folder_frame/103-30-384x480.npy',\n",
       " '/media/minseongjae/HDD/data/AffWild2/Features_folder_frame/103.npy',\n",
       " '/media/minseongjae/HDD/data/AffWild2/Features_folder_frame/104-17-720x480.npy',\n",
       " '/media/minseongjae/HDD/data/AffWild2/Features_folder_frame/105-30-1280x720.npy',\n",
       " '/media/minseongjae/HDD/data/AffWild2/Features_folder_frame/105.npy',\n",
       " '/media/minseongjae/HDD/data/AffWild2/Features_folder_frame/106-30-720x1280.npy',\n",
       " '/media/minseongjae/HDD/data/AffWild2/Features_folder_frame/106.npy',\n",
       " '/media/minseongjae/HDD/data/AffWild2/Features_folder_frame/107-30-640x480.npy',\n",
       " '/media/minseongjae/HDD/data/AffWild2/Features_folder_frame/107.npy',\n",
       " '/media/minseongjae/HDD/data/AffWild2/Features_folder_frame/108-15-640x480.npy',\n",
       " '/media/minseongjae/HDD/data/AffWild2/Features_folder_frame/108.npy',\n",
       " '/media/minseongjae/HDD/data/AffWild2/Features_folder_frame/11-24-1920x1080.npy',\n",
       " '/media/minseongjae/HDD/data/AffWild2/Features_folder_frame/110-30-270x480.npy',\n",
       " '/media/minseongjae/HDD/data/AffWild2/Features_folder_frame/110.npy',\n",
       " '/media/minseongjae/HDD/data/AffWild2/Features_folder_frame/111-25-1920x1080.npy',\n",
       " '/media/minseongjae/HDD/data/AffWild2/Features_folder_frame/111.npy',\n",
       " '/media/minseongjae/HDD/data/AffWild2/Features_folder_frame/112-30-640x360.npy',\n",
       " '/media/minseongjae/HDD/data/AffWild2/Features_folder_frame/112.npy',\n",
       " '/media/minseongjae/HDD/data/AffWild2/Features_folder_frame/113-60-1280x720.npy',\n",
       " '/media/minseongjae/HDD/data/AffWild2/Features_folder_frame/113.npy',\n",
       " '/media/minseongjae/HDD/data/AffWild2/Features_folder_frame/114-30-1280x720.npy',\n",
       " '/media/minseongjae/HDD/data/AffWild2/Features_folder_frame/114.npy',\n",
       " '/media/minseongjae/HDD/data/AffWild2/Features_folder_frame/115-30-1280x720.npy',\n",
       " '/media/minseongjae/HDD/data/AffWild2/Features_folder_frame/116-30-1280x720.npy',\n",
       " '/media/minseongjae/HDD/data/AffWild2/Features_folder_frame/116.npy',\n",
       " '/media/minseongjae/HDD/data/AffWild2/Features_folder_frame/117-25-1920x1080.npy',\n",
       " '/media/minseongjae/HDD/data/AffWild2/Features_folder_frame/117.npy',\n",
       " '/media/minseongjae/HDD/data/AffWild2/Features_folder_frame/118-30-640x480.npy',\n",
       " '/media/minseongjae/HDD/data/AffWild2/Features_folder_frame/118.npy',\n",
       " '/media/minseongjae/HDD/data/AffWild2/Features_folder_frame/119.npy',\n",
       " '/media/minseongjae/HDD/data/AffWild2/Features_folder_frame/12-24-1920x1080.npy',\n",
       " '/media/minseongjae/HDD/data/AffWild2/Features_folder_frame/120-30-1280x720.npy',\n",
       " '/media/minseongjae/HDD/data/AffWild2/Features_folder_frame/120.npy',\n",
       " '/media/minseongjae/HDD/data/AffWild2/Features_folder_frame/121-24-1920x1080.npy',\n",
       " '/media/minseongjae/HDD/data/AffWild2/Features_folder_frame/121.npy',\n",
       " '/media/minseongjae/HDD/data/AffWild2/Features_folder_frame/122-60-1920x1080-1.npy',\n",
       " '/media/minseongjae/HDD/data/AffWild2/Features_folder_frame/122-60-1920x1080-2.npy',\n",
       " '/media/minseongjae/HDD/data/AffWild2/Features_folder_frame/122-60-1920x1080-3.npy',\n",
       " '/media/minseongjae/HDD/data/AffWild2/Features_folder_frame/122-60-1920x1080-4.npy',\n",
       " '/media/minseongjae/HDD/data/AffWild2/Features_folder_frame/122-60-1920x1080-5.npy',\n",
       " '/media/minseongjae/HDD/data/AffWild2/Features_folder_frame/122.npy',\n",
       " '/media/minseongjae/HDD/data/AffWild2/Features_folder_frame/123-25-1920x1080.npy',\n",
       " '/media/minseongjae/HDD/data/AffWild2/Features_folder_frame/123.npy',\n",
       " '/media/minseongjae/HDD/data/AffWild2/Features_folder_frame/124-30-720x1280.npy',\n",
       " '/media/minseongjae/HDD/data/AffWild2/Features_folder_frame/125-25-1280x720.npy',\n",
       " '/media/minseongjae/HDD/data/AffWild2/Features_folder_frame/125.npy',\n",
       " '/media/minseongjae/HDD/data/AffWild2/Features_folder_frame/126-30-1080x1920.npy',\n",
       " '/media/minseongjae/HDD/data/AffWild2/Features_folder_frame/127-30-1280x720.npy',\n",
       " '/media/minseongjae/HDD/data/AffWild2/Features_folder_frame/127.npy',\n",
       " '/media/minseongjae/HDD/data/AffWild2/Features_folder_frame/128-24-1920x1080.npy',\n",
       " '/media/minseongjae/HDD/data/AffWild2/Features_folder_frame/128.npy',\n",
       " '/media/minseongjae/HDD/data/AffWild2/Features_folder_frame/129-24-1280x720.npy',\n",
       " '/media/minseongjae/HDD/data/AffWild2/Features_folder_frame/129.npy',\n",
       " '/media/minseongjae/HDD/data/AffWild2/Features_folder_frame/13-30-1920x1080.npy',\n",
       " '/media/minseongjae/HDD/data/AffWild2/Features_folder_frame/130-25-1280x720_left.npy',\n",
       " '/media/minseongjae/HDD/data/AffWild2/Features_folder_frame/130-25-1280x720_right.npy',\n",
       " '/media/minseongjae/HDD/data/AffWild2/Features_folder_frame/130.npy',\n",
       " '/media/minseongjae/HDD/data/AffWild2/Features_folder_frame/131-30-1920x1080.npy',\n",
       " '/media/minseongjae/HDD/data/AffWild2/Features_folder_frame/131.npy',\n",
       " '/media/minseongjae/HDD/data/AffWild2/Features_folder_frame/132-30-426x240.npy',\n",
       " '/media/minseongjae/HDD/data/AffWild2/Features_folder_frame/132.npy',\n",
       " '/media/minseongjae/HDD/data/AffWild2/Features_folder_frame/133-30-1280x720.npy',\n",
       " '/media/minseongjae/HDD/data/AffWild2/Features_folder_frame/133.npy',\n",
       " '/media/minseongjae/HDD/data/AffWild2/Features_folder_frame/134-30-1280x720.npy',\n",
       " '/media/minseongjae/HDD/data/AffWild2/Features_folder_frame/134.npy',\n",
       " '/media/minseongjae/HDD/data/AffWild2/Features_folder_frame/109-30-1280x720.npy',\n",
       " '/media/minseongjae/HDD/data/AffWild2/Features_folder_frame/119-30-848x480.npy',\n",
       " '/media/minseongjae/HDD/data/AffWild2/Features_folder_frame/126.npy',\n",
       " '/media/minseongjae/HDD/data/AffWild2/Features_folder_frame/135-24-1920x1080_left.npy',\n",
       " '/media/minseongjae/HDD/data/AffWild2/Features_folder_frame/148.npy',\n",
       " '/media/minseongjae/HDD/data/AffWild2/Features_folder_frame/168.npy',\n",
       " '/media/minseongjae/HDD/data/AffWild2/Features_folder_frame/190.npy',\n",
       " '/media/minseongjae/HDD/data/AffWild2/Features_folder_frame/220.npy',\n",
       " '/media/minseongjae/HDD/data/AffWild2/Features_folder_frame/24-30-1920x1080-1.npy',\n",
       " '/media/minseongjae/HDD/data/AffWild2/Features_folder_frame/257.npy',\n",
       " '/media/minseongjae/HDD/data/AffWild2/Features_folder_frame/276.npy',\n",
       " '/media/minseongjae/HDD/data/AffWild2/Features_folder_frame/291.npy',\n",
       " '/media/minseongjae/HDD/data/AffWild2/Features_folder_frame/311.npy',\n",
       " '/media/minseongjae/HDD/data/AffWild2/Features_folder_frame/330.npy',\n",
       " '/media/minseongjae/HDD/data/AffWild2/Features_folder_frame/355.npy',\n",
       " '/media/minseongjae/HDD/data/AffWild2/Features_folder_frame/375.npy',\n",
       " '/media/minseongjae/HDD/data/AffWild2/Features_folder_frame/395.npy',\n",
       " '/media/minseongjae/HDD/data/AffWild2/Features_folder_frame/421.npy',\n",
       " '/media/minseongjae/HDD/data/AffWild2/Features_folder_frame/449.npy',\n",
       " '/media/minseongjae/HDD/data/AffWild2/Features_folder_frame/48-30-720x1280.npy',\n",
       " '/media/minseongjae/HDD/data/AffWild2/Features_folder_frame/5-60-1920x1080-1.npy',\n",
       " '/media/minseongjae/HDD/data/AffWild2/Features_folder_frame/69-25-854x480.npy',\n",
       " '/media/minseongjae/HDD/data/AffWild2/Features_folder_frame/85-24-1280x720.npy',\n",
       " '/media/minseongjae/HDD/data/AffWild2/Features_folder_frame/video10_1_right.npy',\n",
       " '/media/minseongjae/HDD/data/AffWild2/Features_folder_frame/video29_left.npy',\n",
       " '/media/minseongjae/HDD/data/AffWild2/Features_folder_frame/video45_2.npy',\n",
       " '/media/minseongjae/HDD/data/AffWild2/Features_folder_frame/video58.npy',\n",
       " '/media/minseongjae/HDD/data/AffWild2/Features_folder_frame/video73.npy',\n",
       " '/media/minseongjae/HDD/data/AffWild2/Features_folder_frame/149.npy',\n",
       " '/media/minseongjae/HDD/data/AffWild2/Features_folder_frame/15-24-1920x1080.npy',\n",
       " '/media/minseongjae/HDD/data/AffWild2/Features_folder_frame/150.npy',\n",
       " '/media/minseongjae/HDD/data/AffWild2/Features_folder_frame/151.npy',\n",
       " '/media/minseongjae/HDD/data/AffWild2/Features_folder_frame/153.npy',\n",
       " '/media/minseongjae/HDD/data/AffWild2/Features_folder_frame/154.npy',\n",
       " '/media/minseongjae/HDD/data/AffWild2/Features_folder_frame/155.npy',\n",
       " '/media/minseongjae/HDD/data/AffWild2/Features_folder_frame/156.npy',\n",
       " '/media/minseongjae/HDD/data/AffWild2/Features_folder_frame/157.npy',\n",
       " '/media/minseongjae/HDD/data/AffWild2/Features_folder_frame/158.npy',\n",
       " '/media/minseongjae/HDD/data/AffWild2/Features_folder_frame/159.npy',\n",
       " '/media/minseongjae/HDD/data/AffWild2/Features_folder_frame/16-30-1920x1080.npy',\n",
       " '/media/minseongjae/HDD/data/AffWild2/Features_folder_frame/160.npy',\n",
       " '/media/minseongjae/HDD/data/AffWild2/Features_folder_frame/161.npy',\n",
       " '/media/minseongjae/HDD/data/AffWild2/Features_folder_frame/162.npy',\n",
       " '/media/minseongjae/HDD/data/AffWild2/Features_folder_frame/163.npy',\n",
       " '/media/minseongjae/HDD/data/AffWild2/Features_folder_frame/164.npy',\n",
       " '/media/minseongjae/HDD/data/AffWild2/Features_folder_frame/165.npy',\n",
       " '/media/minseongjae/HDD/data/AffWild2/Features_folder_frame/166.npy',\n",
       " '/media/minseongjae/HDD/data/AffWild2/Features_folder_frame/167.npy',\n",
       " '/media/minseongjae/HDD/data/AffWild2/Features_folder_frame/135-24-1920x1080_right.npy',\n",
       " '/media/minseongjae/HDD/data/AffWild2/Features_folder_frame/135.npy',\n",
       " '/media/minseongjae/HDD/data/AffWild2/Features_folder_frame/136-30-1920x1080.npy',\n",
       " '/media/minseongjae/HDD/data/AffWild2/Features_folder_frame/136.npy',\n",
       " '/media/minseongjae/HDD/data/AffWild2/Features_folder_frame/137-30-1920x1080.npy',\n",
       " '/media/minseongjae/HDD/data/AffWild2/Features_folder_frame/137.npy',\n",
       " '/media/minseongjae/HDD/data/AffWild2/Features_folder_frame/138-30-1280x720.npy',\n",
       " '/media/minseongjae/HDD/data/AffWild2/Features_folder_frame/138.npy',\n",
       " '/media/minseongjae/HDD/data/AffWild2/Features_folder_frame/139-14-720x480.npy',\n",
       " '/media/minseongjae/HDD/data/AffWild2/Features_folder_frame/139.npy',\n",
       " '/media/minseongjae/HDD/data/AffWild2/Features_folder_frame/14-30-1920x1080.npy',\n",
       " '/media/minseongjae/HDD/data/AffWild2/Features_folder_frame/140-30-632x360.npy',\n",
       " '/media/minseongjae/HDD/data/AffWild2/Features_folder_frame/140.npy',\n",
       " '/media/minseongjae/HDD/data/AffWild2/Features_folder_frame/141.npy',\n",
       " '/media/minseongjae/HDD/data/AffWild2/Features_folder_frame/143.npy',\n",
       " '/media/minseongjae/HDD/data/AffWild2/Features_folder_frame/144.npy',\n",
       " '/media/minseongjae/HDD/data/AffWild2/Features_folder_frame/146.npy',\n",
       " '/media/minseongjae/HDD/data/AffWild2/Features_folder_frame/147.npy',\n",
       " '/media/minseongjae/HDD/data/AffWild2/Features_folder_frame/24-30-1920x1080-2.npy',\n",
       " '/media/minseongjae/HDD/data/AffWild2/Features_folder_frame/240.npy',\n",
       " '/media/minseongjae/HDD/data/AffWild2/Features_folder_frame/241.npy',\n",
       " '/media/minseongjae/HDD/data/AffWild2/Features_folder_frame/242.npy',\n",
       " '/media/minseongjae/HDD/data/AffWild2/Features_folder_frame/243.npy',\n",
       " '/media/minseongjae/HDD/data/AffWild2/Features_folder_frame/244.npy',\n",
       " '/media/minseongjae/HDD/data/AffWild2/Features_folder_frame/245.npy',\n",
       " '/media/minseongjae/HDD/data/AffWild2/Features_folder_frame/246.npy',\n",
       " '/media/minseongjae/HDD/data/AffWild2/Features_folder_frame/247.npy',\n",
       " '/media/minseongjae/HDD/data/AffWild2/Features_folder_frame/248.npy',\n",
       " '/media/minseongjae/HDD/data/AffWild2/Features_folder_frame/249.npy',\n",
       " '/media/minseongjae/HDD/data/AffWild2/Features_folder_frame/25-25-600x480.npy',\n",
       " '/media/minseongjae/HDD/data/AffWild2/Features_folder_frame/250.npy',\n",
       " '/media/minseongjae/HDD/data/AffWild2/Features_folder_frame/251.npy',\n",
       " '/media/minseongjae/HDD/data/AffWild2/Features_folder_frame/252.npy',\n",
       " '/media/minseongjae/HDD/data/AffWild2/Features_folder_frame/253.npy',\n",
       " '/media/minseongjae/HDD/data/AffWild2/Features_folder_frame/254.npy',\n",
       " '/media/minseongjae/HDD/data/AffWild2/Features_folder_frame/255.npy',\n",
       " '/media/minseongjae/HDD/data/AffWild2/Features_folder_frame/256.npy',\n",
       " '/media/minseongjae/HDD/data/AffWild2/Features_folder_frame/191.npy',\n",
       " '/media/minseongjae/HDD/data/AffWild2/Features_folder_frame/192.npy',\n",
       " '/media/minseongjae/HDD/data/AffWild2/Features_folder_frame/193.npy',\n",
       " '/media/minseongjae/HDD/data/AffWild2/Features_folder_frame/194.npy',\n",
       " '/media/minseongjae/HDD/data/AffWild2/Features_folder_frame/195.npy',\n",
       " '/media/minseongjae/HDD/data/AffWild2/Features_folder_frame/196.npy',\n",
       " '/media/minseongjae/HDD/data/AffWild2/Features_folder_frame/197.npy',\n",
       " '/media/minseongjae/HDD/data/AffWild2/Features_folder_frame/198.npy',\n",
       " '/media/minseongjae/HDD/data/AffWild2/Features_folder_frame/199.npy',\n",
       " '/media/minseongjae/HDD/data/AffWild2/Features_folder_frame/2-30-640x360.npy',\n",
       " '/media/minseongjae/HDD/data/AffWild2/Features_folder_frame/20-24-1920x1080.npy',\n",
       " '/media/minseongjae/HDD/data/AffWild2/Features_folder_frame/200.npy',\n",
       " '/media/minseongjae/HDD/data/AffWild2/Features_folder_frame/201.npy',\n",
       " '/media/minseongjae/HDD/data/AffWild2/Features_folder_frame/202.npy',\n",
       " '/media/minseongjae/HDD/data/AffWild2/Features_folder_frame/203.npy',\n",
       " '/media/minseongjae/HDD/data/AffWild2/Features_folder_frame/204.npy',\n",
       " '/media/minseongjae/HDD/data/AffWild2/Features_folder_frame/206.npy',\n",
       " '/media/minseongjae/HDD/data/AffWild2/Features_folder_frame/207.npy',\n",
       " '/media/minseongjae/HDD/data/AffWild2/Features_folder_frame/208.npy',\n",
       " '/media/minseongjae/HDD/data/AffWild2/Features_folder_frame/209.npy',\n",
       " '/media/minseongjae/HDD/data/AffWild2/Features_folder_frame/21-24-1920x1080.npy',\n",
       " '/media/minseongjae/HDD/data/AffWild2/Features_folder_frame/210.npy',\n",
       " '/media/minseongjae/HDD/data/AffWild2/Features_folder_frame/211.npy',\n",
       " '/media/minseongjae/HDD/data/AffWild2/Features_folder_frame/212.npy',\n",
       " '/media/minseongjae/HDD/data/AffWild2/Features_folder_frame/213.npy',\n",
       " '/media/minseongjae/HDD/data/AffWild2/Features_folder_frame/214.npy',\n",
       " '/media/minseongjae/HDD/data/AffWild2/Features_folder_frame/215.npy',\n",
       " '/media/minseongjae/HDD/data/AffWild2/Features_folder_frame/216.npy',\n",
       " '/media/minseongjae/HDD/data/AffWild2/Features_folder_frame/218.npy',\n",
       " '/media/minseongjae/HDD/data/AffWild2/Features_folder_frame/219.npy',\n",
       " '/media/minseongjae/HDD/data/AffWild2/Features_folder_frame/22-30-1920x1080.npy',\n",
       " '/media/minseongjae/HDD/data/AffWild2/Features_folder_frame/169.npy',\n",
       " '/media/minseongjae/HDD/data/AffWild2/Features_folder_frame/17-24-1920x1080.npy',\n",
       " '/media/minseongjae/HDD/data/AffWild2/Features_folder_frame/171.npy',\n",
       " '/media/minseongjae/HDD/data/AffWild2/Features_folder_frame/172.npy',\n",
       " '/media/minseongjae/HDD/data/AffWild2/Features_folder_frame/175.npy',\n",
       " '/media/minseongjae/HDD/data/AffWild2/Features_folder_frame/176.npy',\n",
       " '/media/minseongjae/HDD/data/AffWild2/Features_folder_frame/177.npy',\n",
       " '/media/minseongjae/HDD/data/AffWild2/Features_folder_frame/178.npy',\n",
       " '/media/minseongjae/HDD/data/AffWild2/Features_folder_frame/179.npy',\n",
       " '/media/minseongjae/HDD/data/AffWild2/Features_folder_frame/18-24-1920x1080.npy',\n",
       " '/media/minseongjae/HDD/data/AffWild2/Features_folder_frame/181.npy',\n",
       " '/media/minseongjae/HDD/data/AffWild2/Features_folder_frame/182.npy',\n",
       " '/media/minseongjae/HDD/data/AffWild2/Features_folder_frame/183.npy',\n",
       " '/media/minseongjae/HDD/data/AffWild2/Features_folder_frame/184.npy',\n",
       " '/media/minseongjae/HDD/data/AffWild2/Features_folder_frame/185.npy',\n",
       " '/media/minseongjae/HDD/data/AffWild2/Features_folder_frame/186.npy',\n",
       " '/media/minseongjae/HDD/data/AffWild2/Features_folder_frame/187.npy',\n",
       " '/media/minseongjae/HDD/data/AffWild2/Features_folder_frame/188.npy',\n",
       " '/media/minseongjae/HDD/data/AffWild2/Features_folder_frame/189.npy',\n",
       " '/media/minseongjae/HDD/data/AffWild2/Features_folder_frame/19-24-1920x1080.npy',\n",
       " '/media/minseongjae/HDD/data/AffWild2/Features_folder_frame/221.npy',\n",
       " '/media/minseongjae/HDD/data/AffWild2/Features_folder_frame/223.npy',\n",
       " '/media/minseongjae/HDD/data/AffWild2/Features_folder_frame/224.npy',\n",
       " '/media/minseongjae/HDD/data/AffWild2/Features_folder_frame/225.npy',\n",
       " '/media/minseongjae/HDD/data/AffWild2/Features_folder_frame/226.npy',\n",
       " '/media/minseongjae/HDD/data/AffWild2/Features_folder_frame/227.npy',\n",
       " '/media/minseongjae/HDD/data/AffWild2/Features_folder_frame/228.npy',\n",
       " '/media/minseongjae/HDD/data/AffWild2/Features_folder_frame/229.npy',\n",
       " '/media/minseongjae/HDD/data/AffWild2/Features_folder_frame/23-24-1920x1080.npy',\n",
       " '/media/minseongjae/HDD/data/AffWild2/Features_folder_frame/230.npy',\n",
       " '/media/minseongjae/HDD/data/AffWild2/Features_folder_frame/231.npy',\n",
       " '/media/minseongjae/HDD/data/AffWild2/Features_folder_frame/232.npy',\n",
       " '/media/minseongjae/HDD/data/AffWild2/Features_folder_frame/233.npy',\n",
       " '/media/minseongjae/HDD/data/AffWild2/Features_folder_frame/234.npy',\n",
       " '/media/minseongjae/HDD/data/AffWild2/Features_folder_frame/235.npy',\n",
       " '/media/minseongjae/HDD/data/AffWild2/Features_folder_frame/236.npy',\n",
       " '/media/minseongjae/HDD/data/AffWild2/Features_folder_frame/237.npy',\n",
       " '/media/minseongjae/HDD/data/AffWild2/Features_folder_frame/238.npy',\n",
       " '/media/minseongjae/HDD/data/AffWild2/Features_folder_frame/239.npy',\n",
       " '/media/minseongjae/HDD/data/AffWild2/Features_folder_frame/258.npy',\n",
       " '/media/minseongjae/HDD/data/AffWild2/Features_folder_frame/259.npy',\n",
       " '/media/minseongjae/HDD/data/AffWild2/Features_folder_frame/26-60-1280x720.npy',\n",
       " '/media/minseongjae/HDD/data/AffWild2/Features_folder_frame/260.npy',\n",
       " '/media/minseongjae/HDD/data/AffWild2/Features_folder_frame/261.npy',\n",
       " '/media/minseongjae/HDD/data/AffWild2/Features_folder_frame/262.npy',\n",
       " '/media/minseongjae/HDD/data/AffWild2/Features_folder_frame/264.npy',\n",
       " '/media/minseongjae/HDD/data/AffWild2/Features_folder_frame/265.npy',\n",
       " '/media/minseongjae/HDD/data/AffWild2/Features_folder_frame/266.npy',\n",
       " '/media/minseongjae/HDD/data/AffWild2/Features_folder_frame/267.npy',\n",
       " '/media/minseongjae/HDD/data/AffWild2/Features_folder_frame/268.npy',\n",
       " '/media/minseongjae/HDD/data/AffWild2/Features_folder_frame/269.npy',\n",
       " '/media/minseongjae/HDD/data/AffWild2/Features_folder_frame/27-60-1280x720.npy',\n",
       " '/media/minseongjae/HDD/data/AffWild2/Features_folder_frame/270.npy',\n",
       " '/media/minseongjae/HDD/data/AffWild2/Features_folder_frame/271.npy',\n",
       " '/media/minseongjae/HDD/data/AffWild2/Features_folder_frame/272.npy',\n",
       " '/media/minseongjae/HDD/data/AffWild2/Features_folder_frame/273.npy',\n",
       " '/media/minseongjae/HDD/data/AffWild2/Features_folder_frame/274.npy',\n",
       " '/media/minseongjae/HDD/data/AffWild2/Features_folder_frame/275.npy',\n",
       " '/media/minseongjae/HDD/data/AffWild2/Features_folder_frame/277.npy',\n",
       " '/media/minseongjae/HDD/data/AffWild2/Features_folder_frame/278.npy',\n",
       " '/media/minseongjae/HDD/data/AffWild2/Features_folder_frame/279.npy',\n",
       " '/media/minseongjae/HDD/data/AffWild2/Features_folder_frame/28-30-1280x720-1.npy',\n",
       " '/media/minseongjae/HDD/data/AffWild2/Features_folder_frame/28-30-1280x720-2.npy',\n",
       " '/media/minseongjae/HDD/data/AffWild2/Features_folder_frame/28-30-1280x720-3.npy',\n",
       " '/media/minseongjae/HDD/data/AffWild2/Features_folder_frame/28-30-1280x720-4.npy',\n",
       " '/media/minseongjae/HDD/data/AffWild2/Features_folder_frame/280.npy',\n",
       " '/media/minseongjae/HDD/data/AffWild2/Features_folder_frame/281.npy',\n",
       " '/media/minseongjae/HDD/data/AffWild2/Features_folder_frame/282.npy',\n",
       " '/media/minseongjae/HDD/data/AffWild2/Features_folder_frame/283.npy',\n",
       " '/media/minseongjae/HDD/data/AffWild2/Features_folder_frame/284.npy',\n",
       " '/media/minseongjae/HDD/data/AffWild2/Features_folder_frame/285.npy',\n",
       " '/media/minseongjae/HDD/data/AffWild2/Features_folder_frame/286.npy',\n",
       " '/media/minseongjae/HDD/data/AffWild2/Features_folder_frame/287.npy',\n",
       " '/media/minseongjae/HDD/data/AffWild2/Features_folder_frame/288.npy',\n",
       " '/media/minseongjae/HDD/data/AffWild2/Features_folder_frame/289.npy',\n",
       " '/media/minseongjae/HDD/data/AffWild2/Features_folder_frame/29-24-1280x720.npy',\n",
       " '/media/minseongjae/HDD/data/AffWild2/Features_folder_frame/290.npy',\n",
       " '/media/minseongjae/HDD/data/AffWild2/Features_folder_frame/292.npy',\n",
       " '/media/minseongjae/HDD/data/AffWild2/Features_folder_frame/293.npy',\n",
       " '/media/minseongjae/HDD/data/AffWild2/Features_folder_frame/294.npy',\n",
       " '/media/minseongjae/HDD/data/AffWild2/Features_folder_frame/295.npy',\n",
       " '/media/minseongjae/HDD/data/AffWild2/Features_folder_frame/296.npy',\n",
       " '/media/minseongjae/HDD/data/AffWild2/Features_folder_frame/297.npy',\n",
       " '/media/minseongjae/HDD/data/AffWild2/Features_folder_frame/298.npy',\n",
       " '/media/minseongjae/HDD/data/AffWild2/Features_folder_frame/299.npy',\n",
       " '/media/minseongjae/HDD/data/AffWild2/Features_folder_frame/3-25-1920x1080.npy',\n",
       " '/media/minseongjae/HDD/data/AffWild2/Features_folder_frame/30-30-1920x1080_left.npy',\n",
       " '/media/minseongjae/HDD/data/AffWild2/Features_folder_frame/30-30-1920x1080_right.npy',\n",
       " '/media/minseongjae/HDD/data/AffWild2/Features_folder_frame/303.npy',\n",
       " '/media/minseongjae/HDD/data/AffWild2/Features_folder_frame/304.npy',\n",
       " '/media/minseongjae/HDD/data/AffWild2/Features_folder_frame/305.npy',\n",
       " '/media/minseongjae/HDD/data/AffWild2/Features_folder_frame/306.npy',\n",
       " '/media/minseongjae/HDD/data/AffWild2/Features_folder_frame/307.npy',\n",
       " '/media/minseongjae/HDD/data/AffWild2/Features_folder_frame/308.npy',\n",
       " '/media/minseongjae/HDD/data/AffWild2/Features_folder_frame/309.npy',\n",
       " '/media/minseongjae/HDD/data/AffWild2/Features_folder_frame/31-30-1920x1080.npy',\n",
       " '/media/minseongjae/HDD/data/AffWild2/Features_folder_frame/312.npy',\n",
       " '/media/minseongjae/HDD/data/AffWild2/Features_folder_frame/313.npy',\n",
       " '/media/minseongjae/HDD/data/AffWild2/Features_folder_frame/314.npy',\n",
       " '/media/minseongjae/HDD/data/AffWild2/Features_folder_frame/315.npy',\n",
       " '/media/minseongjae/HDD/data/AffWild2/Features_folder_frame/317.npy',\n",
       " '/media/minseongjae/HDD/data/AffWild2/Features_folder_frame/318.npy',\n",
       " '/media/minseongjae/HDD/data/AffWild2/Features_folder_frame/319.npy',\n",
       " '/media/minseongjae/HDD/data/AffWild2/Features_folder_frame/32-60-1920x1080.npy',\n",
       " '/media/minseongjae/HDD/data/AffWild2/Features_folder_frame/320.npy',\n",
       " '/media/minseongjae/HDD/data/AffWild2/Features_folder_frame/321.npy',\n",
       " '/media/minseongjae/HDD/data/AffWild2/Features_folder_frame/322.npy',\n",
       " '/media/minseongjae/HDD/data/AffWild2/Features_folder_frame/323.npy',\n",
       " '/media/minseongjae/HDD/data/AffWild2/Features_folder_frame/324.npy',\n",
       " '/media/minseongjae/HDD/data/AffWild2/Features_folder_frame/325.npy',\n",
       " '/media/minseongjae/HDD/data/AffWild2/Features_folder_frame/326.npy',\n",
       " '/media/minseongjae/HDD/data/AffWild2/Features_folder_frame/327.npy',\n",
       " '/media/minseongjae/HDD/data/AffWild2/Features_folder_frame/328.npy',\n",
       " '/media/minseongjae/HDD/data/AffWild2/Features_folder_frame/329.npy',\n",
       " '/media/minseongjae/HDD/data/AffWild2/Features_folder_frame/33-30-1920x1080.npy',\n",
       " '/media/minseongjae/HDD/data/AffWild2/Features_folder_frame/331.npy',\n",
       " '/media/minseongjae/HDD/data/AffWild2/Features_folder_frame/332.npy',\n",
       " '/media/minseongjae/HDD/data/AffWild2/Features_folder_frame/334.npy',\n",
       " '/media/minseongjae/HDD/data/AffWild2/Features_folder_frame/335.npy',\n",
       " '/media/minseongjae/HDD/data/AffWild2/Features_folder_frame/336.npy',\n",
       " '/media/minseongjae/HDD/data/AffWild2/Features_folder_frame/337.npy',\n",
       " '/media/minseongjae/HDD/data/AffWild2/Features_folder_frame/339.npy',\n",
       " '/media/minseongjae/HDD/data/AffWild2/Features_folder_frame/34-25-1920x1080.npy',\n",
       " '/media/minseongjae/HDD/data/AffWild2/Features_folder_frame/341.npy',\n",
       " '/media/minseongjae/HDD/data/AffWild2/Features_folder_frame/344.npy',\n",
       " '/media/minseongjae/HDD/data/AffWild2/Features_folder_frame/345.npy',\n",
       " '/media/minseongjae/HDD/data/AffWild2/Features_folder_frame/346.npy',\n",
       " '/media/minseongjae/HDD/data/AffWild2/Features_folder_frame/347.npy',\n",
       " '/media/minseongjae/HDD/data/AffWild2/Features_folder_frame/348.npy',\n",
       " '/media/minseongjae/HDD/data/AffWild2/Features_folder_frame/349.npy',\n",
       " '/media/minseongjae/HDD/data/AffWild2/Features_folder_frame/35-30-1920x1080.npy',\n",
       " '/media/minseongjae/HDD/data/AffWild2/Features_folder_frame/350.npy',\n",
       " '/media/minseongjae/HDD/data/AffWild2/Features_folder_frame/353.npy',\n",
       " '/media/minseongjae/HDD/data/AffWild2/Features_folder_frame/354.npy',\n",
       " '/media/minseongjae/HDD/data/AffWild2/Features_folder_frame/357.npy',\n",
       " '/media/minseongjae/HDD/data/AffWild2/Features_folder_frame/358.npy',\n",
       " '/media/minseongjae/HDD/data/AffWild2/Features_folder_frame/359.npy',\n",
       " '/media/minseongjae/HDD/data/AffWild2/Features_folder_frame/36-24-1280x720.npy',\n",
       " '/media/minseongjae/HDD/data/AffWild2/Features_folder_frame/360.npy',\n",
       " '/media/minseongjae/HDD/data/AffWild2/Features_folder_frame/361.npy',\n",
       " '/media/minseongjae/HDD/data/AffWild2/Features_folder_frame/362.npy',\n",
       " '/media/minseongjae/HDD/data/AffWild2/Features_folder_frame/363.npy',\n",
       " '/media/minseongjae/HDD/data/AffWild2/Features_folder_frame/364.npy',\n",
       " '/media/minseongjae/HDD/data/AffWild2/Features_folder_frame/365.npy',\n",
       " '/media/minseongjae/HDD/data/AffWild2/Features_folder_frame/367.npy',\n",
       " '/media/minseongjae/HDD/data/AffWild2/Features_folder_frame/368.npy',\n",
       " '/media/minseongjae/HDD/data/AffWild2/Features_folder_frame/369.npy',\n",
       " '/media/minseongjae/HDD/data/AffWild2/Features_folder_frame/37-30-1280x720.npy',\n",
       " '/media/minseongjae/HDD/data/AffWild2/Features_folder_frame/370.npy',\n",
       " '/media/minseongjae/HDD/data/AffWild2/Features_folder_frame/371.npy',\n",
       " '/media/minseongjae/HDD/data/AffWild2/Features_folder_frame/372.npy',\n",
       " '/media/minseongjae/HDD/data/AffWild2/Features_folder_frame/373.npy',\n",
       " '/media/minseongjae/HDD/data/AffWild2/Features_folder_frame/374.npy',\n",
       " '/media/minseongjae/HDD/data/AffWild2/Features_folder_frame/376.npy',\n",
       " '/media/minseongjae/HDD/data/AffWild2/Features_folder_frame/377.npy',\n",
       " '/media/minseongjae/HDD/data/AffWild2/Features_folder_frame/378.npy',\n",
       " '/media/minseongjae/HDD/data/AffWild2/Features_folder_frame/38-30-1920x1080.npy',\n",
       " '/media/minseongjae/HDD/data/AffWild2/Features_folder_frame/380.npy',\n",
       " '/media/minseongjae/HDD/data/AffWild2/Features_folder_frame/381.npy',\n",
       " '/media/minseongjae/HDD/data/AffWild2/Features_folder_frame/382.npy',\n",
       " '/media/minseongjae/HDD/data/AffWild2/Features_folder_frame/383.npy',\n",
       " '/media/minseongjae/HDD/data/AffWild2/Features_folder_frame/384.npy',\n",
       " '/media/minseongjae/HDD/data/AffWild2/Features_folder_frame/385.npy',\n",
       " '/media/minseongjae/HDD/data/AffWild2/Features_folder_frame/386.npy',\n",
       " '/media/minseongjae/HDD/data/AffWild2/Features_folder_frame/387.npy',\n",
       " '/media/minseongjae/HDD/data/AffWild2/Features_folder_frame/388.npy',\n",
       " '/media/minseongjae/HDD/data/AffWild2/Features_folder_frame/389.npy',\n",
       " '/media/minseongjae/HDD/data/AffWild2/Features_folder_frame/39-25-424x240.npy',\n",
       " '/media/minseongjae/HDD/data/AffWild2/Features_folder_frame/391.npy',\n",
       " '/media/minseongjae/HDD/data/AffWild2/Features_folder_frame/392.npy',\n",
       " '/media/minseongjae/HDD/data/AffWild2/Features_folder_frame/393.npy',\n",
       " '/media/minseongjae/HDD/data/AffWild2/Features_folder_frame/394.npy',\n",
       " '/media/minseongjae/HDD/data/AffWild2/Features_folder_frame/398.npy',\n",
       " '/media/minseongjae/HDD/data/AffWild2/Features_folder_frame/399.npy',\n",
       " '/media/minseongjae/HDD/data/AffWild2/Features_folder_frame/4-30-1920x1080.npy',\n",
       " '/media/minseongjae/HDD/data/AffWild2/Features_folder_frame/40-30-1280x720.npy',\n",
       " '/media/minseongjae/HDD/data/AffWild2/Features_folder_frame/400.npy',\n",
       " '/media/minseongjae/HDD/data/AffWild2/Features_folder_frame/402.npy',\n",
       " '/media/minseongjae/HDD/data/AffWild2/Features_folder_frame/403.npy',\n",
       " '/media/minseongjae/HDD/data/AffWild2/Features_folder_frame/406.npy',\n",
       " '/media/minseongjae/HDD/data/AffWild2/Features_folder_frame/407.npy',\n",
       " '/media/minseongjae/HDD/data/AffWild2/Features_folder_frame/408.npy',\n",
       " '/media/minseongjae/HDD/data/AffWild2/Features_folder_frame/409.npy',\n",
       " '/media/minseongjae/HDD/data/AffWild2/Features_folder_frame/41-24-1280x720.npy',\n",
       " '/media/minseongjae/HDD/data/AffWild2/Features_folder_frame/412.npy',\n",
       " '/media/minseongjae/HDD/data/AffWild2/Features_folder_frame/415.npy',\n",
       " '/media/minseongjae/HDD/data/AffWild2/Features_folder_frame/416.npy',\n",
       " '/media/minseongjae/HDD/data/AffWild2/Features_folder_frame/418.npy',\n",
       " '/media/minseongjae/HDD/data/AffWild2/Features_folder_frame/419.npy',\n",
       " '/media/minseongjae/HDD/data/AffWild2/Features_folder_frame/42-30-480x480.npy',\n",
       " '/media/minseongjae/HDD/data/AffWild2/Features_folder_frame/420.npy',\n",
       " '/media/minseongjae/HDD/data/AffWild2/Features_folder_frame/423.npy',\n",
       " '/media/minseongjae/HDD/data/AffWild2/Features_folder_frame/424.npy',\n",
       " '/media/minseongjae/HDD/data/AffWild2/Features_folder_frame/425.npy',\n",
       " '/media/minseongjae/HDD/data/AffWild2/Features_folder_frame/426.npy',\n",
       " '/media/minseongjae/HDD/data/AffWild2/Features_folder_frame/427.npy',\n",
       " '/media/minseongjae/HDD/data/AffWild2/Features_folder_frame/428.npy',\n",
       " '/media/minseongjae/HDD/data/AffWild2/Features_folder_frame/429.npy',\n",
       " '/media/minseongjae/HDD/data/AffWild2/Features_folder_frame/43-30-406x720.npy',\n",
       " '/media/minseongjae/HDD/data/AffWild2/Features_folder_frame/430.npy',\n",
       " '/media/minseongjae/HDD/data/AffWild2/Features_folder_frame/433.npy',\n",
       " '/media/minseongjae/HDD/data/AffWild2/Features_folder_frame/434.npy',\n",
       " '/media/minseongjae/HDD/data/AffWild2/Features_folder_frame/435.npy',\n",
       " '/media/minseongjae/HDD/data/AffWild2/Features_folder_frame/439.npy',\n",
       " '/media/minseongjae/HDD/data/AffWild2/Features_folder_frame/44-25-426x240.npy',\n",
       " '/media/minseongjae/HDD/data/AffWild2/Features_folder_frame/440.npy',\n",
       " '/media/minseongjae/HDD/data/AffWild2/Features_folder_frame/441.npy',\n",
       " '/media/minseongjae/HDD/data/AffWild2/Features_folder_frame/446.npy',\n",
       " '/media/minseongjae/HDD/data/AffWild2/Features_folder_frame/447.npy',\n",
       " '/media/minseongjae/HDD/data/AffWild2/Features_folder_frame/448.npy',\n",
       " '/media/minseongjae/HDD/data/AffWild2/Features_folder_frame/45-24-1280x720.npy',\n",
       " '/media/minseongjae/HDD/data/AffWild2/Features_folder_frame/450.npy',\n",
       " '/media/minseongjae/HDD/data/AffWild2/Features_folder_frame/46-30-484x360_left.npy',\n",
       " '/media/minseongjae/HDD/data/AffWild2/Features_folder_frame/46-30-484x360_right.npy',\n",
       " '/media/minseongjae/HDD/data/AffWild2/Features_folder_frame/461.npy',\n",
       " '/media/minseongjae/HDD/data/AffWild2/Features_folder_frame/462.npy',\n",
       " '/media/minseongjae/HDD/data/AffWild2/Features_folder_frame/463.npy',\n",
       " '/media/minseongjae/HDD/data/AffWild2/Features_folder_frame/464.npy',\n",
       " '/media/minseongjae/HDD/data/AffWild2/Features_folder_frame/465.npy',\n",
       " '/media/minseongjae/HDD/data/AffWild2/Features_folder_frame/466.npy',\n",
       " '/media/minseongjae/HDD/data/AffWild2/Features_folder_frame/467.npy',\n",
       " '/media/minseongjae/HDD/data/AffWild2/Features_folder_frame/468.npy',\n",
       " '/media/minseongjae/HDD/data/AffWild2/Features_folder_frame/469.npy',\n",
       " '/media/minseongjae/HDD/data/AffWild2/Features_folder_frame/47-30-654x480.npy',\n",
       " '/media/minseongjae/HDD/data/AffWild2/Features_folder_frame/470.npy',\n",
       " '/media/minseongjae/HDD/data/AffWild2/Features_folder_frame/476.npy',\n",
       " '/media/minseongjae/HDD/data/AffWild2/Features_folder_frame/477.npy',\n",
       " '/media/minseongjae/HDD/data/AffWild2/Features_folder_frame/478.npy',\n",
       " '/media/minseongjae/HDD/data/AffWild2/Features_folder_frame/479.npy',\n",
       " '/media/minseongjae/HDD/data/AffWild2/Features_folder_frame/480.npy',\n",
       " '/media/minseongjae/HDD/data/AffWild2/Features_folder_frame/486.npy',\n",
       " '/media/minseongjae/HDD/data/AffWild2/Features_folder_frame/487.npy',\n",
       " '/media/minseongjae/HDD/data/AffWild2/Features_folder_frame/488.npy',\n",
       " '/media/minseongjae/HDD/data/AffWild2/Features_folder_frame/489.npy',\n",
       " '/media/minseongjae/HDD/data/AffWild2/Features_folder_frame/49-30-1280x720_left.npy',\n",
       " '/media/minseongjae/HDD/data/AffWild2/Features_folder_frame/49-30-1280x720_right.npy',\n",
       " '/media/minseongjae/HDD/data/AffWild2/Features_folder_frame/490.npy',\n",
       " '/media/minseongjae/HDD/data/AffWild2/Features_folder_frame/491.npy',\n",
       " '/media/minseongjae/HDD/data/AffWild2/Features_folder_frame/492.npy',\n",
       " '/media/minseongjae/HDD/data/AffWild2/Features_folder_frame/493.npy',\n",
       " '/media/minseongjae/HDD/data/AffWild2/Features_folder_frame/494.npy',\n",
       " '/media/minseongjae/HDD/data/AffWild2/Features_folder_frame/495.npy',\n",
       " '/media/minseongjae/HDD/data/AffWild2/Features_folder_frame/496.npy',\n",
       " '/media/minseongjae/HDD/data/AffWild2/Features_folder_frame/497.npy',\n",
       " '/media/minseongjae/HDD/data/AffWild2/Features_folder_frame/498.npy',\n",
       " '/media/minseongjae/HDD/data/AffWild2/Features_folder_frame/499.npy',\n",
       " '/media/minseongjae/HDD/data/AffWild2/Features_folder_frame/7-60-1920x1080.npy',\n",
       " '/media/minseongjae/HDD/data/AffWild2/Features_folder_frame/70-30-720x1280.npy',\n",
       " '/media/minseongjae/HDD/data/AffWild2/Features_folder_frame/71-30-1920x1080.npy',\n",
       " '/media/minseongjae/HDD/data/AffWild2/Features_folder_frame/72-30-1280x720.npy',\n",
       " '/media/minseongjae/HDD/data/AffWild2/Features_folder_frame/74-25-1920x1080.npy',\n",
       " '/media/minseongjae/HDD/data/AffWild2/Features_folder_frame/75-30-960x720.npy',\n",
       " '/media/minseongjae/HDD/data/AffWild2/Features_folder_frame/76-30-640x280.npy',\n",
       " '/media/minseongjae/HDD/data/AffWild2/Features_folder_frame/77-30-1280x720.npy',\n",
       " '/media/minseongjae/HDD/data/AffWild2/Features_folder_frame/78-30-960x720.npy',\n",
       " '/media/minseongjae/HDD/data/AffWild2/Features_folder_frame/79-30-960x720.npy',\n",
       " '/media/minseongjae/HDD/data/AffWild2/Features_folder_frame/8-30-1280x720.npy',\n",
       " '/media/minseongjae/HDD/data/AffWild2/Features_folder_frame/80-30-320x240.npy',\n",
       " '/media/minseongjae/HDD/data/AffWild2/Features_folder_frame/81-30-576x360.npy',\n",
       " '/media/minseongjae/HDD/data/AffWild2/Features_folder_frame/82-25-854x480.npy',\n",
       " '/media/minseongjae/HDD/data/AffWild2/Features_folder_frame/83-24-1920x1080.npy',\n",
       " '/media/minseongjae/HDD/data/AffWild2/Features_folder_frame/84-30-1920x1080.npy',\n",
       " '/media/minseongjae/HDD/data/AffWild2/Features_folder_frame/86-24-1920x1080.npy',\n",
       " '/media/minseongjae/HDD/data/AffWild2/Features_folder_frame/87-25-1920x1080.npy',\n",
       " '/media/minseongjae/HDD/data/AffWild2/Features_folder_frame/88-30-360x480.npy',\n",
       " '/media/minseongjae/HDD/data/AffWild2/Features_folder_frame/89-30-1080x1920.npy',\n",
       " '/media/minseongjae/HDD/data/AffWild2/Features_folder_frame/9-15-1920x1080.npy',\n",
       " '/media/minseongjae/HDD/data/AffWild2/Features_folder_frame/90-30-1080x1920.npy',\n",
       " '/media/minseongjae/HDD/data/AffWild2/Features_folder_frame/91-30-1920x1080.npy',\n",
       " '/media/minseongjae/HDD/data/AffWild2/Features_folder_frame/92-24-1920x1080.npy',\n",
       " '/media/minseongjae/HDD/data/AffWild2/Features_folder_frame/93-24-640x360.npy',\n",
       " '/media/minseongjae/HDD/data/AffWild2/Features_folder_frame/94-30-1920x1080.npy',\n",
       " '/media/minseongjae/HDD/data/AffWild2/Features_folder_frame/95-24-1920x1080.npy',\n",
       " '/media/minseongjae/HDD/data/AffWild2/Features_folder_frame/96-30-1280x720.npy',\n",
       " '/media/minseongjae/HDD/data/AffWild2/Features_folder_frame/97-29-1920x1080.npy',\n",
       " '/media/minseongjae/HDD/data/AffWild2/Features_folder_frame/98-30-360x360.npy',\n",
       " '/media/minseongjae/HDD/data/AffWild2/Features_folder_frame/99-30-720x720.npy',\n",
       " '/media/minseongjae/HDD/data/AffWild2/Features_folder_frame/video1.npy',\n",
       " '/media/minseongjae/HDD/data/AffWild2/Features_folder_frame/video10_1_left.npy',\n",
       " '/media/minseongjae/HDD/data/AffWild2/Features_folder_frame/video11.npy',\n",
       " '/media/minseongjae/HDD/data/AffWild2/Features_folder_frame/video12.npy',\n",
       " '/media/minseongjae/HDD/data/AffWild2/Features_folder_frame/video13.npy',\n",
       " '/media/minseongjae/HDD/data/AffWild2/Features_folder_frame/video14.npy',\n",
       " '/media/minseongjae/HDD/data/AffWild2/Features_folder_frame/video15.npy',\n",
       " '/media/minseongjae/HDD/data/AffWild2/Features_folder_frame/video16.npy',\n",
       " '/media/minseongjae/HDD/data/AffWild2/Features_folder_frame/video17.npy',\n",
       " '/media/minseongjae/HDD/data/AffWild2/Features_folder_frame/video18.npy',\n",
       " '/media/minseongjae/HDD/data/AffWild2/Features_folder_frame/video19.npy',\n",
       " '/media/minseongjae/HDD/data/AffWild2/Features_folder_frame/video2.npy',\n",
       " '/media/minseongjae/HDD/data/AffWild2/Features_folder_frame/video20.npy',\n",
       " '/media/minseongjae/HDD/data/AffWild2/Features_folder_frame/video21.npy',\n",
       " '/media/minseongjae/HDD/data/AffWild2/Features_folder_frame/video22.npy',\n",
       " '/media/minseongjae/HDD/data/AffWild2/Features_folder_frame/video23.npy',\n",
       " '/media/minseongjae/HDD/data/AffWild2/Features_folder_frame/video24.npy',\n",
       " '/media/minseongjae/HDD/data/AffWild2/Features_folder_frame/video25.npy',\n",
       " '/media/minseongjae/HDD/data/AffWild2/Features_folder_frame/video26.npy',\n",
       " '/media/minseongjae/HDD/data/AffWild2/Features_folder_frame/video27.npy',\n",
       " '/media/minseongjae/HDD/data/AffWild2/Features_folder_frame/video28.npy',\n",
       " '/media/minseongjae/HDD/data/AffWild2/Features_folder_frame/video29_right.npy',\n",
       " '/media/minseongjae/HDD/data/AffWild2/Features_folder_frame/video2_left.npy',\n",
       " '/media/minseongjae/HDD/data/AffWild2/Features_folder_frame/video3.npy',\n",
       " '/media/minseongjae/HDD/data/AffWild2/Features_folder_frame/video30.npy',\n",
       " '/media/minseongjae/HDD/data/AffWild2/Features_folder_frame/video32.npy',\n",
       " '/media/minseongjae/HDD/data/AffWild2/Features_folder_frame/video33.npy',\n",
       " '/media/minseongjae/HDD/data/AffWild2/Features_folder_frame/video34.npy',\n",
       " '/media/minseongjae/HDD/data/AffWild2/Features_folder_frame/video35.npy',\n",
       " '/media/minseongjae/HDD/data/AffWild2/Features_folder_frame/video36.npy',\n",
       " '/media/minseongjae/HDD/data/AffWild2/Features_folder_frame/video37.npy',\n",
       " '/media/minseongjae/HDD/data/AffWild2/Features_folder_frame/video38.npy',\n",
       " '/media/minseongjae/HDD/data/AffWild2/Features_folder_frame/video39.npy',\n",
       " '/media/minseongjae/HDD/data/AffWild2/Features_folder_frame/video4.npy',\n",
       " '/media/minseongjae/HDD/data/AffWild2/Features_folder_frame/video40.npy',\n",
       " '/media/minseongjae/HDD/data/AffWild2/Features_folder_frame/video41.npy',\n",
       " '/media/minseongjae/HDD/data/AffWild2/Features_folder_frame/video42.npy',\n",
       " '/media/minseongjae/HDD/data/AffWild2/Features_folder_frame/video44.npy',\n",
       " '/media/minseongjae/HDD/data/AffWild2/Features_folder_frame/video45_1.npy',\n",
       " '/media/minseongjae/HDD/data/AffWild2/Features_folder_frame/video45_3.npy',\n",
       " '/media/minseongjae/HDD/data/AffWild2/Features_folder_frame/video45_4.npy',\n",
       " '/media/minseongjae/HDD/data/AffWild2/Features_folder_frame/video45_5.npy',\n",
       " '/media/minseongjae/HDD/data/AffWild2/Features_folder_frame/video45_6.npy',\n",
       " '/media/minseongjae/HDD/data/AffWild2/Features_folder_frame/video45_7.npy',\n",
       " '/media/minseongjae/HDD/data/AffWild2/Features_folder_frame/video46.npy',\n",
       " '/media/minseongjae/HDD/data/AffWild2/Features_folder_frame/video47.npy',\n",
       " '/media/minseongjae/HDD/data/AffWild2/Features_folder_frame/video48.npy',\n",
       " '/media/minseongjae/HDD/data/AffWild2/Features_folder_frame/video49_left.npy',\n",
       " '/media/minseongjae/HDD/data/AffWild2/Features_folder_frame/video49_right.npy',\n",
       " '/media/minseongjae/HDD/data/AffWild2/Features_folder_frame/video51.npy',\n",
       " '/media/minseongjae/HDD/data/AffWild2/Features_folder_frame/video52.npy',\n",
       " '/media/minseongjae/HDD/data/AffWild2/Features_folder_frame/video53.npy',\n",
       " '/media/minseongjae/HDD/data/AffWild2/Features_folder_frame/video54.npy',\n",
       " '/media/minseongjae/HDD/data/AffWild2/Features_folder_frame/video55_left.npy',\n",
       " '/media/minseongjae/HDD/data/AffWild2/Features_folder_frame/video55_right.npy',\n",
       " '/media/minseongjae/HDD/data/AffWild2/Features_folder_frame/video56.npy',\n",
       " '/media/minseongjae/HDD/data/AffWild2/Features_folder_frame/video57.npy',\n",
       " '/media/minseongjae/HDD/data/AffWild2/Features_folder_frame/video59.npy',\n",
       " '/media/minseongjae/HDD/data/AffWild2/Features_folder_frame/video59_right.npy',\n",
       " '/media/minseongjae/HDD/data/AffWild2/Features_folder_frame/video5_left.npy',\n",
       " '/media/minseongjae/HDD/data/AffWild2/Features_folder_frame/video5_right.npy',\n",
       " '/media/minseongjae/HDD/data/AffWild2/Features_folder_frame/video6.npy',\n",
       " '/media/minseongjae/HDD/data/AffWild2/Features_folder_frame/video60.npy',\n",
       " '/media/minseongjae/HDD/data/AffWild2/Features_folder_frame/video61.npy',\n",
       " '/media/minseongjae/HDD/data/AffWild2/Features_folder_frame/video62.npy',\n",
       " '/media/minseongjae/HDD/data/AffWild2/Features_folder_frame/video63.npy',\n",
       " '/media/minseongjae/HDD/data/AffWild2/Features_folder_frame/video64.npy',\n",
       " '/media/minseongjae/HDD/data/AffWild2/Features_folder_frame/video65.npy',\n",
       " '/media/minseongjae/HDD/data/AffWild2/Features_folder_frame/video66.npy',\n",
       " '/media/minseongjae/HDD/data/AffWild2/Features_folder_frame/video67.npy',\n",
       " '/media/minseongjae/HDD/data/AffWild2/Features_folder_frame/video69.npy',\n",
       " '/media/minseongjae/HDD/data/AffWild2/Features_folder_frame/video7.npy',\n",
       " '/media/minseongjae/HDD/data/AffWild2/Features_folder_frame/video70.npy',\n",
       " '/media/minseongjae/HDD/data/AffWild2/Features_folder_frame/video71.npy',\n",
       " '/media/minseongjae/HDD/data/AffWild2/Features_folder_frame/video72.npy',\n",
       " '/media/minseongjae/HDD/data/AffWild2/Features_folder_frame/video74_left.npy',\n",
       " '/media/minseongjae/HDD/data/AffWild2/Features_folder_frame/video74_right.npy',\n",
       " '/media/minseongjae/HDD/data/AffWild2/Features_folder_frame/video75.npy',\n",
       " '/media/minseongjae/HDD/data/AffWild2/Features_folder_frame/video76.npy',\n",
       " '/media/minseongjae/HDD/data/AffWild2/Features_folder_frame/video77.npy',\n",
       " '/media/minseongjae/HDD/data/AffWild2/Features_folder_frame/video78.npy',\n",
       " '/media/minseongjae/HDD/data/AffWild2/Features_folder_frame/video79.npy',\n",
       " '/media/minseongjae/HDD/data/AffWild2/Features_folder_frame/video8.npy',\n",
       " '/media/minseongjae/HDD/data/AffWild2/Features_folder_frame/video80.npy',\n",
       " '/media/minseongjae/HDD/data/AffWild2/Features_folder_frame/video81.npy',\n",
       " '/media/minseongjae/HDD/data/AffWild2/Features_folder_frame/video82.npy',\n",
       " '/media/minseongjae/HDD/data/AffWild2/Features_folder_frame/video83.npy',\n",
       " '/media/minseongjae/HDD/data/AffWild2/Features_folder_frame/video84.npy',\n",
       " '/media/minseongjae/HDD/data/AffWild2/Features_folder_frame/video85.npy',\n",
       " '/media/minseongjae/HDD/data/AffWild2/Features_folder_frame/video86_1.npy',\n",
       " '/media/minseongjae/HDD/data/AffWild2/Features_folder_frame/video86_2.npy',\n",
       " '/media/minseongjae/HDD/data/AffWild2/Features_folder_frame/video86_3.npy',\n",
       " '/media/minseongjae/HDD/data/AffWild2/Features_folder_frame/video87.npy',\n",
       " '/media/minseongjae/HDD/data/AffWild2/Features_folder_frame/video88.npy',\n",
       " '/media/minseongjae/HDD/data/AffWild2/Features_folder_frame/video89.npy',\n",
       " '/media/minseongjae/HDD/data/AffWild2/Features_folder_frame/video9.npy',\n",
       " '/media/minseongjae/HDD/data/AffWild2/Features_folder_frame/video90.npy',\n",
       " '/media/minseongjae/HDD/data/AffWild2/Features_folder_frame/video91.npy',\n",
       " '/media/minseongjae/HDD/data/AffWild2/Features_folder_frame/video92.npy',\n",
       " '/media/minseongjae/HDD/data/AffWild2/Features_folder_frame/video93.npy',\n",
       " '/media/minseongjae/HDD/data/AffWild2/Features_folder_frame/video94.npy',\n",
       " '/media/minseongjae/HDD/data/AffWild2/Features_folder_frame/video95.npy',\n",
       " '/media/minseongjae/HDD/data/AffWild2/Features_folder_frame/video96.npy',\n",
       " '/media/minseongjae/HDD/data/AffWild2/Features_folder_frame/5-60-1920x1080-2.npy',\n",
       " '/media/minseongjae/HDD/data/AffWild2/Features_folder_frame/5-60-1920x1080-3.npy',\n",
       " '/media/minseongjae/HDD/data/AffWild2/Features_folder_frame/5-60-1920x1080-4.npy',\n",
       " '/media/minseongjae/HDD/data/AffWild2/Features_folder_frame/50-30-1920x1080.npy',\n",
       " '/media/minseongjae/HDD/data/AffWild2/Features_folder_frame/500.npy',\n",
       " '/media/minseongjae/HDD/data/AffWild2/Features_folder_frame/51-30-1280x720.npy',\n",
       " '/media/minseongjae/HDD/data/AffWild2/Features_folder_frame/52-30-1280x720_left.npy',\n",
       " '/media/minseongjae/HDD/data/AffWild2/Features_folder_frame/52-30-1280x720_right.npy',\n",
       " '/media/minseongjae/HDD/data/AffWild2/Features_folder_frame/53-30-360x480.npy',\n",
       " '/media/minseongjae/HDD/data/AffWild2/Features_folder_frame/54-30-1080x1920.npy',\n",
       " '/media/minseongjae/HDD/data/AffWild2/Features_folder_frame/55-25-1280x720.npy',\n",
       " '/media/minseongjae/HDD/data/AffWild2/Features_folder_frame/56-30-1080x1920.npy',\n",
       " '/media/minseongjae/HDD/data/AffWild2/Features_folder_frame/57-25-426x240.npy',\n",
       " '/media/minseongjae/HDD/data/AffWild2/Features_folder_frame/58-30-640x480.npy',\n",
       " '/media/minseongjae/HDD/data/AffWild2/Features_folder_frame/59-30-1280x720.npy',\n",
       " '/media/minseongjae/HDD/data/AffWild2/Features_folder_frame/6-30-1920x1080_left.npy',\n",
       " '/media/minseongjae/HDD/data/AffWild2/Features_folder_frame/6-30-1920x1080_right.npy',\n",
       " '/media/minseongjae/HDD/data/AffWild2/Features_folder_frame/60-30-1920x1080.npy',\n",
       " '/media/minseongjae/HDD/data/AffWild2/Features_folder_frame/61-24-1920x1080.npy',\n",
       " '/media/minseongjae/HDD/data/AffWild2/Features_folder_frame/62-30-654x480.npy',\n",
       " '/media/minseongjae/HDD/data/AffWild2/Features_folder_frame/63-30-1920x1080.npy',\n",
       " '/media/minseongjae/HDD/data/AffWild2/Features_folder_frame/64-24-640x360.npy',\n",
       " '/media/minseongjae/HDD/data/AffWild2/Features_folder_frame/65-30-400x228.npy',\n",
       " '/media/minseongjae/HDD/data/AffWild2/Features_folder_frame/66-25-1080x1920.npy',\n",
       " '/media/minseongjae/HDD/data/AffWild2/Features_folder_frame/67-24-640x360.npy',\n",
       " '/media/minseongjae/HDD/data/AffWild2/Features_folder_frame/68-24-1920x1080.npy']"
      ]
     },
     "execution_count": 260,
     "metadata": {},
     "output_type": "execute_result"
    }
   ],
   "source": [
    "npy_list"
   ]
  },
  {
   "cell_type": "code",
   "execution_count": 257,
   "metadata": {},
   "outputs": [
    {
     "name": "stdout",
     "output_type": "stream",
     "text": [
      "486\n",
      "486\n",
      "486\n",
      "486\n",
      "486\n",
      "486\n",
      "486\n",
      "486\n",
      "486\n",
      "486\n",
      "486\n",
      "486\n",
      "486\n",
      "486\n",
      "486\n",
      "486\n",
      "486\n",
      "486\n",
      "486\n",
      "486\n",
      "486\n",
      "486\n",
      "486\n",
      "486\n",
      "486\n",
      "486\n",
      "486\n",
      "486\n",
      "486\n",
      "486\n",
      "486\n",
      "486\n",
      "486\n",
      "486\n",
      "486\n",
      "486\n",
      "486\n",
      "486\n",
      "486\n",
      "486\n",
      "486\n",
      "486\n",
      "486\n",
      "486\n",
      "486\n",
      "486\n",
      "486\n",
      "486\n",
      "486\n",
      "486\n",
      "486\n",
      "486\n",
      "486\n",
      "486\n",
      "486\n",
      "486\n",
      "486\n",
      "486\n",
      "486\n",
      "486\n",
      "486\n",
      "486\n",
      "486\n",
      "486\n",
      "486\n",
      "486\n",
      "486\n",
      "486\n",
      "486\n",
      "486\n",
      "486\n",
      "486\n",
      "486\n",
      "486\n",
      "486\n",
      "486\n",
      "486\n",
      "486\n",
      "486\n",
      "486\n",
      "486\n",
      "486\n",
      "486\n",
      "486\n",
      "486\n",
      "486\n",
      "486\n",
      "486\n",
      "486\n",
      "486\n",
      "486\n",
      "486\n",
      "486\n",
      "486\n",
      "486\n",
      "486\n",
      "486\n",
      "486\n",
      "486\n",
      "486\n",
      "486\n",
      "486\n",
      "486\n",
      "486\n",
      "486\n",
      "486\n",
      "486\n",
      "486\n",
      "486\n",
      "486\n",
      "486\n",
      "486\n",
      "486\n",
      "486\n",
      "486\n",
      "486\n",
      "486\n",
      "486\n",
      "486\n",
      "486\n",
      "486\n",
      "486\n",
      "486\n",
      "486\n",
      "486\n",
      "486\n",
      "486\n",
      "486\n",
      "486\n",
      "486\n",
      "486\n",
      "486\n",
      "486\n",
      "486\n",
      "486\n",
      "486\n",
      "486\n",
      "486\n",
      "486\n",
      "486\n",
      "486\n",
      "486\n",
      "486\n",
      "486\n",
      "486\n",
      "486\n",
      "486\n",
      "486\n",
      "486\n",
      "486\n",
      "486\n",
      "486\n",
      "486\n",
      "486\n",
      "486\n",
      "486\n",
      "486\n",
      "486\n",
      "486\n",
      "486\n",
      "486\n",
      "486\n",
      "486\n",
      "486\n",
      "486\n",
      "486\n",
      "486\n",
      "486\n",
      "486\n",
      "486\n",
      "486\n",
      "486\n",
      "486\n",
      "486\n",
      "486\n",
      "486\n",
      "486\n",
      "486\n",
      "486\n",
      "486\n",
      "486\n",
      "486\n",
      "486\n",
      "486\n",
      "486\n",
      "486\n",
      "486\n",
      "486\n",
      "486\n",
      "486\n",
      "486\n",
      "486\n",
      "486\n",
      "486\n",
      "486\n",
      "486\n",
      "486\n",
      "486\n",
      "486\n",
      "486\n",
      "486\n",
      "486\n",
      "486\n",
      "486\n",
      "486\n",
      "486\n",
      "486\n",
      "486\n",
      "486\n",
      "486\n",
      "486\n",
      "486\n",
      "486\n",
      "486\n",
      "486\n",
      "486\n",
      "486\n",
      "486\n",
      "486\n",
      "486\n",
      "486\n",
      "486\n",
      "486\n",
      "486\n",
      "486\n",
      "486\n",
      "486\n",
      "486\n",
      "486\n",
      "486\n",
      "486\n",
      "486\n",
      "486\n",
      "486\n",
      "486\n",
      "486\n",
      "486\n",
      "486\n",
      "486\n",
      "486\n",
      "486\n",
      "486\n",
      "486\n",
      "486\n",
      "486\n",
      "486\n",
      "486\n",
      "486\n",
      "486\n",
      "486\n",
      "486\n",
      "486\n",
      "486\n",
      "486\n",
      "486\n",
      "486\n",
      "486\n",
      "486\n",
      "486\n",
      "486\n",
      "486\n",
      "486\n",
      "486\n",
      "486\n",
      "486\n",
      "486\n",
      "486\n",
      "486\n",
      "486\n",
      "486\n",
      "486\n",
      "486\n",
      "486\n",
      "486\n",
      "486\n",
      "486\n",
      "486\n",
      "486\n",
      "486\n",
      "486\n",
      "486\n",
      "486\n",
      "486\n",
      "486\n",
      "486\n",
      "486\n",
      "486\n",
      "486\n",
      "486\n",
      "486\n",
      "486\n",
      "486\n",
      "486\n",
      "486\n",
      "486\n",
      "486\n",
      "486\n",
      "486\n",
      "486\n",
      "486\n",
      "486\n",
      "486\n",
      "486\n",
      "486\n",
      "486\n",
      "486\n",
      "486\n",
      "486\n",
      "486\n",
      "486\n",
      "486\n",
      "486\n",
      "486\n",
      "486\n",
      "486\n",
      "486\n",
      "486\n",
      "486\n",
      "486\n",
      "486\n",
      "486\n",
      "486\n",
      "486\n",
      "486\n",
      "486\n",
      "486\n",
      "486\n",
      "486\n",
      "486\n",
      "486\n",
      "486\n",
      "486\n",
      "486\n",
      "486\n",
      "486\n",
      "486\n",
      "486\n",
      "486\n",
      "486\n",
      "486\n",
      "486\n",
      "486\n",
      "486\n",
      "486\n",
      "486\n",
      "486\n",
      "486\n",
      "486\n",
      "486\n",
      "486\n",
      "486\n",
      "486\n",
      "486\n",
      "486\n",
      "486\n",
      "486\n",
      "486\n",
      "486\n",
      "486\n",
      "486\n",
      "486\n",
      "486\n",
      "486\n",
      "486\n",
      "486\n",
      "486\n",
      "486\n",
      "486\n",
      "486\n",
      "486\n",
      "486\n",
      "486\n",
      "486\n",
      "486\n",
      "486\n",
      "486\n",
      "486\n",
      "486\n",
      "486\n",
      "486\n",
      "486\n",
      "486\n",
      "486\n",
      "486\n",
      "486\n",
      "486\n",
      "486\n",
      "486\n",
      "486\n",
      "486\n",
      "486\n",
      "486\n",
      "486\n",
      "486\n",
      "486\n",
      "486\n",
      "486\n",
      "486\n",
      "486\n",
      "486\n",
      "486\n",
      "486\n",
      "486\n",
      "486\n",
      "486\n",
      "486\n",
      "486\n",
      "486\n",
      "486\n",
      "486\n",
      "486\n",
      "486\n",
      "486\n",
      "486\n",
      "486\n",
      "486\n",
      "486\n",
      "486\n",
      "486\n",
      "486\n",
      "486\n",
      "486\n",
      "486\n",
      "486\n",
      "486\n",
      "486\n",
      "486\n",
      "486\n",
      "486\n",
      "486\n",
      "486\n",
      "486\n",
      "486\n",
      "486\n",
      "486\n",
      "486\n"
     ]
    },
    {
     "ename": "KeyboardInterrupt",
     "evalue": "",
     "output_type": "error",
     "traceback": [
      "\u001b[0;31m---------------------------------------------------------------------------\u001b[0m",
      "\u001b[0;31mKeyboardInterrupt\u001b[0m                         Traceback (most recent call last)",
      "Cell \u001b[0;32mIn[257], line 8\u001b[0m\n\u001b[1;32m      6\u001b[0m AU_flag, EXPR_flag, VA_flag \u001b[38;5;241m=\u001b[39m \u001b[38;5;28;01mFalse\u001b[39;00m, \u001b[38;5;28;01mFalse\u001b[39;00m, \u001b[38;5;28;01mFalse\u001b[39;00m\n\u001b[1;32m      7\u001b[0m file_name \u001b[38;5;241m=\u001b[39m npy\u001b[38;5;241m.\u001b[39msplit(\u001b[38;5;124m\"\u001b[39m\u001b[38;5;124m/\u001b[39m\u001b[38;5;124m\"\u001b[39m)[\u001b[38;5;241m-\u001b[39m\u001b[38;5;241m1\u001b[39m][:\u001b[38;5;241m-\u001b[39m\u001b[38;5;241m4\u001b[39m]\n\u001b[0;32m----> 8\u001b[0m vis_feat \u001b[38;5;241m=\u001b[39m np\u001b[38;5;241m.\u001b[39mload(npy)\n\u001b[1;32m      9\u001b[0m frame_name \u001b[38;5;241m=\u001b[39m vis_feat[:,\u001b[38;5;241m0\u001b[39m]\n\u001b[1;32m     10\u001b[0m AU_folder \u001b[38;5;241m=\u001b[39m AU_train_anno[AU_id]\u001b[38;5;241m.\u001b[39msplit(\u001b[38;5;124m\"\u001b[39m\u001b[38;5;124m/\u001b[39m\u001b[38;5;124m\"\u001b[39m)[\u001b[38;5;241m-\u001b[39m\u001b[38;5;241m1\u001b[39m][:\u001b[38;5;241m-\u001b[39m\u001b[38;5;241m4\u001b[39m]\n",
      "File \u001b[0;32m~/anaconda3/envs/meta/lib/python3.12/site-packages/numpy/lib/npyio.py:456\u001b[0m, in \u001b[0;36mload\u001b[0;34m(file, mmap_mode, allow_pickle, fix_imports, encoding, max_header_size)\u001b[0m\n\u001b[1;32m    453\u001b[0m         \u001b[38;5;28;01mreturn\u001b[39;00m \u001b[38;5;28mformat\u001b[39m\u001b[38;5;241m.\u001b[39mopen_memmap(file, mode\u001b[38;5;241m=\u001b[39mmmap_mode,\n\u001b[1;32m    454\u001b[0m                                   max_header_size\u001b[38;5;241m=\u001b[39mmax_header_size)\n\u001b[1;32m    455\u001b[0m     \u001b[38;5;28;01melse\u001b[39;00m:\n\u001b[0;32m--> 456\u001b[0m         \u001b[38;5;28;01mreturn\u001b[39;00m \u001b[38;5;28mformat\u001b[39m\u001b[38;5;241m.\u001b[39mread_array(fid, allow_pickle\u001b[38;5;241m=\u001b[39mallow_pickle,\n\u001b[1;32m    457\u001b[0m                                  pickle_kwargs\u001b[38;5;241m=\u001b[39mpickle_kwargs,\n\u001b[1;32m    458\u001b[0m                                  max_header_size\u001b[38;5;241m=\u001b[39mmax_header_size)\n\u001b[1;32m    459\u001b[0m \u001b[38;5;28;01melse\u001b[39;00m:\n\u001b[1;32m    460\u001b[0m     \u001b[38;5;66;03m# Try a pickle\u001b[39;00m\n\u001b[1;32m    461\u001b[0m     \u001b[38;5;28;01mif\u001b[39;00m \u001b[38;5;129;01mnot\u001b[39;00m allow_pickle:\n",
      "File \u001b[0;32m~/anaconda3/envs/meta/lib/python3.12/site-packages/numpy/lib/format.py:809\u001b[0m, in \u001b[0;36mread_array\u001b[0;34m(fp, allow_pickle, pickle_kwargs, max_header_size)\u001b[0m\n\u001b[1;32m    806\u001b[0m \u001b[38;5;28;01melse\u001b[39;00m:\n\u001b[1;32m    807\u001b[0m     \u001b[38;5;28;01mif\u001b[39;00m isfileobj(fp):\n\u001b[1;32m    808\u001b[0m         \u001b[38;5;66;03m# We can use the fast fromfile() function.\u001b[39;00m\n\u001b[0;32m--> 809\u001b[0m         array \u001b[38;5;241m=\u001b[39m numpy\u001b[38;5;241m.\u001b[39mfromfile(fp, dtype\u001b[38;5;241m=\u001b[39mdtype, count\u001b[38;5;241m=\u001b[39mcount)\n\u001b[1;32m    810\u001b[0m     \u001b[38;5;28;01melse\u001b[39;00m:\n\u001b[1;32m    811\u001b[0m         \u001b[38;5;66;03m# This is not a real file. We have to read it the\u001b[39;00m\n\u001b[1;32m    812\u001b[0m         \u001b[38;5;66;03m# memory-intensive way.\u001b[39;00m\n\u001b[0;32m   (...)\u001b[0m\n\u001b[1;32m    820\u001b[0m         \u001b[38;5;66;03m# not correctly instantiate zero-width string dtypes; see\u001b[39;00m\n\u001b[1;32m    821\u001b[0m         \u001b[38;5;66;03m# https://github.com/numpy/numpy/pull/6430\u001b[39;00m\n\u001b[1;32m    822\u001b[0m         array \u001b[38;5;241m=\u001b[39m numpy\u001b[38;5;241m.\u001b[39mndarray(count, dtype\u001b[38;5;241m=\u001b[39mdtype)\n",
      "\u001b[0;31mKeyboardInterrupt\u001b[0m: "
     ]
    }
   ],
   "source": [
    "npy_list = glob.glob(\"/media/minseongjae/HDD/data/AffWild2/Features_folder_frame/*.npy\")\n",
    "AU_id, EXPR_id, VA_id = 0,0,0\n",
    "AU_folder_name, AU_frames, AU_total_path = [], [], []\n",
    "EXPR_folder_name, EXPR_frames, EXPR_total_path = [], [], []\n",
    "VA_folder_name, VA_frames, VA_total_path = [], [], []\n",
    "for npy in npy_list:\n",
    "    AU_flag, EXPR_flag, VA_flag = False, False, False\n",
    "    file_name = npy.split(\"/\")[-1][:-4]\n",
    "    vis_feat = np.load(npy)\n",
    "    frame_name = vis_feat[:,0]\n",
    "    AU_folder = AU_train_anno[AU_id].split(\"/\")[-1][:-4]\n",
    "    EXPR_folder = EXPR_train_anno[EXPR_id].split(\"/\")[-1][:-4]\n",
    "    VA_folder = VA_train_anno[VA_id].split(\"/\")[-1][:-4]\n",
    "    if file_name == AU_folder:\n",
    "        AU_flag = True\n",
    "        with open(AU_train_anno[AU_id], \"r\") as f:\n",
    "            AU_lines = f.readlines()[1:]\n",
    "        AU_id += 1\n",
    "    if file_name == EXPR_folder:\n",
    "        EXPR_flag = True\n",
    "        with open(EXPR_train_anno[EXPR_id], \"r\") as f:\n",
    "            EXPR_lines = f.readlines()[1:]\n",
    "        EXPR_id += 1\n",
    "    if file_name == VA_folder:\n",
    "        VA_flag = True\n",
    "        with open(VA_train_anno[VA_id], \"r\") as f:\n",
    "            VA_lines = f.readlines()[1:]\n",
    "        VA_id += 1\n",
    "    if not AU_flag and not EXPR_flag and not VA_flag:\n",
    "        print(file_name)\n",
    "        continue\n",
    "    for frame in frame_name:\n",
    "        if AU_flag:\n",
    "            try:\n",
    "                AU_line = AU_lines[int(frame) - 1]\n",
    "            except:\n",
    "                AU_line = AU_lines[-1]\n",
    "            valid_data = validate_and_process_anno('AU', AU_line)\n",
    "            if valid_data:\n",
    "                AU_folder_name.append(file_name)\n",
    "                AU_frames.append(frame)\n",
    "                AU_total_path.append(file_name + \"/\" + str(int(frame)).zfill(5))\n",
    "        if EXPR_flag:\n",
    "            try:\n",
    "                EXPR_line = EXPR_lines[int(frame) - 1]\n",
    "            except:\n",
    "                EXPR_line = EXPR_lines[-1]\n",
    "            valid_data = validate_and_process_anno('EXPR', EXPR_line)\n",
    "            if valid_data:\n",
    "                EXPR_folder_name.append(file_name)\n",
    "                EXPR_frames.append(frame)\n",
    "                EXPR_total_path.append(file_name + \"/\" + str(int(frame)).zfill(5))\n",
    "        if VA_flag:\n",
    "            try:\n",
    "                VA_line = VA_lines[int(frame) - 1]\n",
    "            except:\n",
    "                VA_line = VA_lines[-1]\n",
    "            valid_data = validate_and_process_anno('VA', VA_line)\n",
    "            if valid_data:\n",
    "                VA_folder_name.append(file_name)\n",
    "                VA_frames.append(frame)\n",
    "                VA_total_path.append(file_name + \"/\" + str(int(frame)).zfill(5))\n",
    "AU_df = pd.DataFrame({\"folder_name\" : AU_folder_name, \"frame\" : AU_frames, \"total_path\" : AU_total_path})\n",
    "EXPR_df = pd.DataFrame({\"folder_name\" : EXPR_folder_name, \"frame\" : EXPR_frames, \"total_path\" : EXPR_total_path})\n",
    "VA_df = pd.DataFrame({\"folder_name\" : VA_folder_name, \"frame\" : VA_frames, \"total_path\" : VA_total_path})\n",
    "AU_df.to_csv(\"/media/minseongjae/HDD/data/AffWild2/AU_train_anno.csv\", index=False)\n",
    "EXPR_df.to_csv(\"/media/minseongjae/HDD/data/AffWild2/EXPR_train_anno.csv\", index=False)\n",
    "VA_df.to_csv(\"/media/minseongjae/HDD/data/AffWild2/VA_train_anno.csv\", index=False)"
   ]
  },
  {
   "cell_type": "code",
   "execution_count": null,
   "metadata": {},
   "outputs": [],
   "source": []
  },
  {
   "cell_type": "code",
   "execution_count": 1,
   "metadata": {},
   "outputs": [
    {
     "name": "stderr",
     "output_type": "stream",
     "text": [
      "0it [00:00, ?it/s]\n"
     ]
    }
   ],
   "source": [
    "# change the name of the file ex 91 to 00091\n",
    "import os\n",
    "from glob import glob\n",
    "import pandas as pd\n",
    "import numpy as np\n",
    "import os\n",
    "from tqdm import tqdm\n",
    "\n",
    "files = glob(\"/home/minseongjae/ABAW_Audio/2022_ABAW_imlab/data/features/*_audio/*/*.npy\")\n",
    "pbar = tqdm(files)\n",
    "for file in pbar:\n",
    "    split_name = file.split(\"/\")[-3]\n",
    "    folder_name = file.split(\"/\")[-2]\n",
    "    file_name = file.split(\"/\")[-1]\n",
    "    new_file_name = file_name.split(\".\")[0].zfill(5) + \".npy\"\n",
    "    new_file_path = os.path.join(\"/home/minseongjae/ABAW_Audio/2022_ABAW_imlab/data/features\", folder_name, new_file_name)\n",
    "    pbar.set_postfix_str(new_file_path)\n",
    "    os.makedirs(os.path.dirname(new_file_path), exist_ok=True)\n",
    "    os.rename(file, new_file_path)"
   ]
  },
  {
   "cell_type": "code",
   "execution_count": null,
   "metadata": {},
   "outputs": [],
   "source": []
  }
 ],
 "metadata": {
  "kernelspec": {
   "display_name": "meta",
   "language": "python",
   "name": "python3"
  },
  "language_info": {
   "codemirror_mode": {
    "name": "ipython",
    "version": 3
   },
   "file_extension": ".py",
   "mimetype": "text/x-python",
   "name": "python",
   "nbconvert_exporter": "python",
   "pygments_lexer": "ipython3",
   "version": "3.12.1"
  }
 },
 "nbformat": 4,
 "nbformat_minor": 2
}
