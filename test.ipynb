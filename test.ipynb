{
 "cells": [
  {
   "cell_type": "markdown",
   "metadata": {},
   "source": [
    "# Import Library"
   ]
  },
  {
   "cell_type": "code",
   "execution_count": 1,
   "metadata": {},
   "outputs": [
    {
     "name": "stderr",
     "output_type": "stream",
     "text": [
      "/home/minseongjae/anaconda3/envs/meta/lib/python3.12/site-packages/tqdm/auto.py:21: TqdmWarning: IProgress not found. Please update jupyter and ipywidgets. See https://ipywidgets.readthedocs.io/en/stable/user_install.html\n",
      "  from .autonotebook import tqdm as notebook_tqdm\n"
     ]
    }
   ],
   "source": [
    "from utils import get_config\n",
    "from transformer_model import TransformerModel\n",
    "from model import linear_model, lstm_model, resnet_model, ImageTransformer, ImageFeatureTransformer\n",
    "import os\n",
    "import torch\n",
    "from tqdm import tqdm"
   ]
  },
  {
   "cell_type": "markdown",
   "metadata": {},
   "source": [
    "# Load the configuration"
   ]
  },
  {
   "cell_type": "code",
   "execution_count": 42,
   "metadata": {},
   "outputs": [],
   "source": [
    "# Load the configuration\n",
    "cfg = get_config('abaw/va/vis_aud_transformer_seq_4/config.yaml')  # Update this path as necessary\n",
    "cfg['device'] = \"cuda:1\""
   ]
  },
  {
   "cell_type": "markdown",
   "metadata": {},
   "source": [
    "# Load Model and weights"
   ]
  },
  {
   "cell_type": "code",
   "execution_count": 43,
   "metadata": {},
   "outputs": [],
   "source": [
    "if cfg['model'] == 'transformer':\n",
    "    model = TransformerModel(seq_len=cfg['seq_size'], embedding_size=cfg['embedding_size'],\n",
    "                                nhead=cfg['n_head'], num_encoder_layers=cfg['n_layers'],\n",
    "                                num_classes=cfg['num_classes'], cfg=cfg)\n",
    "elif cfg['model'] == 'linear':\n",
    "    # Linear model\n",
    "    model = linear_model(cfg)\n",
    "elif cfg['model'] == 'lstm':\n",
    "    # LSTM model\n",
    "    model = lstm_model(cfg)\n",
    "elif cfg['model'] == 'resnet':\n",
    "    # ResNet model\n",
    "    model = resnet_model(cfg)\n",
    "elif cfg['model'] == 'vit':\n",
    "    model = ImageTransformer('google/vit-base-patch16-224-in21k', cfg, device=cfg['device'])\n",
    "else:\n",
    "    # Vision Transformer\n",
    "    model = ImageFeatureTransformer('google/vit-base-patch16-224-in21k', cfg, device=cfg['device'])"
   ]
  },
  {
   "cell_type": "code",
   "execution_count": 44,
   "metadata": {},
   "outputs": [
    {
     "data": {
      "text/plain": [
       "<All keys matched successfully>"
      ]
     },
     "execution_count": 44,
     "metadata": {},
     "output_type": "execute_result"
    }
   ],
   "source": [
    "# load weights\n",
    "model.load_state_dict(torch.load('abaw/va/vis_aud_transformer_seq_4/best_model_2_0.8909372838366498.pt'))"
   ]
  },
  {
   "cell_type": "markdown",
   "metadata": {},
   "source": [
    "# Test Dataset"
   ]
  },
  {
   "cell_type": "code",
   "execution_count": 45,
   "metadata": {},
   "outputs": [],
   "source": [
    "from torch.utils.data import Dataset, DataLoader\n",
    "from torchvision import transforms\n",
    "import numpy as np\n",
    "import cv2\n",
    "\n",
    "class MyDataset_test(Dataset):\n",
    "    def __init__(self, data_root,\n",
    "                 txt_path='/home/minseongjae/ABAW/0_data/test/test_set_examples/test_set_examples/CVPR_6th_ABAW_Expr_test_set_example.txt', \n",
    "                 return_vis=True, return_aud=False, return_img=False, return_seq=False, seq_size=10):\n",
    "        self.data_root = data_root\n",
    "        self.seq_size = seq_size\n",
    "        with open(txt_path, 'r') as f:\n",
    "            lines = f.readlines()\n",
    "        self.img_paths = [x.split(',')[0] for x in lines[1:]]\n",
    "        self.directories = [x.split('/')[0] for x in self.img_paths]\n",
    "        self.return_seq = return_seq\n",
    "        self.return_vis = return_vis\n",
    "        if return_vis:\n",
    "            self.img_paths = [x for x in self.img_paths if os.path.exists(os.path.join(data_root, 'vis_feat', x.replace('.jpg','.npy')))]\n",
    "        self.return_aud = return_aud\n",
    "        self.return_img = return_img\n",
    "        if return_img:            \n",
    "            self.transform = transforms.Compose([\n",
    "                transforms.Resize((224, 224)),\n",
    "                transforms.ToTensor()\n",
    "            ])        \n",
    "\n",
    "    def __len__(self):\n",
    "        return len(self.img_paths)\n",
    "    \n",
    "    def __getitem__(self, idx):\n",
    "        data = {}\n",
    "        if self.return_seq:\n",
    "            start_idx = max(idx - self.seq_size + 1, 0)\n",
    "            sequence_range = range(start_idx, idx + 1)\n",
    "            current_dir = self.directories[idx]\n",
    "            idxs = []\n",
    "            for i in sequence_range:\n",
    "                if self.directories[i] != current_dir:\n",
    "                    continue\n",
    "                else:\n",
    "                    idxs.append(i)\n",
    "            if len(idxs) < self.seq_size:\n",
    "                idxs = [idxs[0]] * (self.seq_size - len(idxs)) + idxs\n",
    "            img_paths_seq = [self.img_paths[i] for i in idxs]\n",
    "            data['img_paths'] = img_paths_seq\n",
    "            if self.return_img:\n",
    "                img_seq = [self.transform(image=cv2.cvtColor(cv2.imread(os.path.join(self.data_root, 'imgs', ip)), cv2.COLOR_BGR2RGB))['image'] for ip in img_paths_seq]\n",
    "                data['img'] = torch.stack(img_seq)\n",
    "            if self.return_vis:\n",
    "                vis_feat_seq = np.concatenate([np.load(os.path.join(self.data_root, 'vis_feat', ip.replace('.jpg','.npy'))) for ip in img_paths_seq], axis=0)\n",
    "                data['vis_feat'] = torch.tensor(vis_feat_seq, dtype=torch.float)\n",
    "            if self.return_aud:\n",
    "                aud_feat_seq = np.concatenate([np.load(os.path.join(self.data_root, 'aud_feat', ip.replace('.jpg','.npy'))) for ip in img_paths_seq], axis=0)\n",
    "                data['aud_feat'] = torch.tensor(aud_feat_seq, dtype=torch.float)\n",
    "\n",
    "        else:\n",
    "            img_path = self.img_paths[idx]\n",
    "            data['img_path'] = img_path            \n",
    "            if self.return_vis:\n",
    "                vis_feat = np.load(os.path.join(self.data_root, 'vis_feat', img_path.replace('.jpg','.npy')))\n",
    "                data['vis_feat'] = torch.tensor(vis_feat, dtype=torch.float)\n",
    "            if self.return_aud:\n",
    "                aud_feat = np.load(os.path.join(self.data_root, 'aud_feat', img_path.replace('.jpg','.npy')))\n",
    "                data['aud_feat'] = torch.tensor(aud_feat, dtype=torch.float)\n",
    "            if self.return_img:\n",
    "                img_path = os.path.join(self.data_root, 'imgs', img_path)\n",
    "                img = cv2.cvtColor(cv2.imread(img_path), cv2.COLOR_BGR2RGB)\n",
    "                img = self.transform(image=img)['image']\n",
    "                data['img'] = img\n",
    "        return data"
   ]
  },
  {
   "cell_type": "code",
   "execution_count": 46,
   "metadata": {},
   "outputs": [],
   "source": [
    "test_dataset = MyDataset_test(data_root = cfg['data_path'], txt_path='/home/minseongjae/ABAW/0_data/test/test_set_examples/test_set_examples/CVPR_6th_ABAW_VA_test_set_example.txt',\n",
    "                        return_img=cfg['return_img'], return_aud=cfg['return_aud'], return_vis=cfg['return_vis'],\n",
    "                        return_seq=cfg['return_seq'], seq_size=cfg['seq_size'])"
   ]
  },
  {
   "cell_type": "code",
   "execution_count": 47,
   "metadata": {},
   "outputs": [],
   "source": [
    "test_loader = DataLoader(test_dataset, batch_size=cfg['batch_size'], shuffle=False, num_workers=cfg['num_workers'])"
   ]
  },
  {
   "cell_type": "code",
   "execution_count": 50,
   "metadata": {},
   "outputs": [
    {
     "name": "stderr",
     "output_type": "stream",
     "text": [
      "100%|██████████| 3399/3399 [22:06<00:00,  2.56it/s]\n"
     ]
    }
   ],
   "source": [
    "img_paths = []\n",
    "outputs = []\n",
    "model.eval()\n",
    "model.to(cfg['device'])\n",
    "for data in tqdm(test_loader):\n",
    "    if cfg['return_seq']:\n",
    "        vis_feat = data['vis_feat'].to(cfg['device'])\n",
    "        output = model(vis_feat)\n",
    "        img_paths += data['img_paths'][-1]\n",
    "    else:\n",
    "        vis_feat = data['vis_feat'].to(cfg['device'])\n",
    "        output = model(vis_feat)\n",
    "        img_paths += data['img_path']\n",
    "    output = output.cpu().detach().numpy()\n",
    "    outputs += output.tolist()"
   ]
  },
  {
   "cell_type": "code",
   "execution_count": 51,
   "metadata": {},
   "outputs": [
    {
     "data": {
      "text/plain": [
       "(910867, 910867)"
      ]
     },
     "execution_count": 51,
     "metadata": {},
     "output_type": "execute_result"
    }
   ],
   "source": [
    "len(outputs), len(img_paths)"
   ]
  },
  {
   "cell_type": "code",
   "execution_count": 52,
   "metadata": {},
   "outputs": [],
   "source": [
    "results = {img_paths[i]: outputs[i] for i in range(len(img_paths))}\n"
   ]
  },
  {
   "cell_type": "code",
   "execution_count": 60,
   "metadata": {},
   "outputs": [
    {
     "data": {
      "text/plain": [
       "-0.35335004329681396"
      ]
     },
     "execution_count": 60,
     "metadata": {},
     "output_type": "execute_result"
    }
   ],
   "source": [
    "df['valence,arousal'][0][0]"
   ]
  },
  {
   "cell_type": "code",
   "execution_count": 71,
   "metadata": {},
   "outputs": [],
   "source": [
    "file = \"VA_result.txt\"\n",
    "with open(file, \"r\") as f:\n",
    "    lines = f.readlines()\n",
    "for idx, line in enumerate(lines):\n",
    "    name= line.split(\",\")[0]\n",
    "    label = line[len(name) + 1:]\n",
    "    label = label[1:]\n",
    "    label = label[:-2]\n",
    "    label = label.replace(\" \", \"\")\n",
    "    lines[idx] = name + \",\" + label + \"\\n\"\n"
   ]
  },
  {
   "cell_type": "code",
   "execution_count": 72,
   "metadata": {},
   "outputs": [],
   "source": [
    "file = \"VA_process_result.txt\"\n",
    "with open(file, \"w\") as f:\n",
    "    for line in lines:\n",
    "        f.write(line)"
   ]
  },
  {
   "cell_type": "code",
   "execution_count": 54,
   "metadata": {},
   "outputs": [],
   "source": [
    "# save\n",
    "import pandas as pd\n",
    "df = pd.DataFrame(list(results.items()), columns=['image_location', 'valence,arousal'])\n",
    "df.to_csv('VA_result.csv', index=False)"
   ]
  },
  {
   "cell_type": "code",
   "execution_count": 28,
   "metadata": {},
   "outputs": [],
   "source": [
    "df.to_csv('AU_result.csv', index=False)"
   ]
  },
  {
   "cell_type": "code",
   "execution_count": 21,
   "metadata": {},
   "outputs": [
    {
     "ename": "KeyboardInterrupt",
     "evalue": "",
     "output_type": "error",
     "traceback": [
      "\u001b[0;31m---------------------------------------------------------------------------\u001b[0m",
      "\u001b[0;31mKeyboardInterrupt\u001b[0m                         Traceback (most recent call last)",
      "Cell \u001b[0;32mIn[21], line 8\u001b[0m\n\u001b[1;32m      6\u001b[0m \u001b[38;5;28;01mfor\u001b[39;00m line \u001b[38;5;129;01min\u001b[39;00m lines[\u001b[38;5;241m1\u001b[39m:]:\n\u001b[1;32m      7\u001b[0m     img_loc \u001b[38;5;241m=\u001b[39m line\u001b[38;5;241m.\u001b[39msplit(\u001b[38;5;124m'\u001b[39m\u001b[38;5;124m,\u001b[39m\u001b[38;5;124m'\u001b[39m)[\u001b[38;5;241m0\u001b[39m]\n\u001b[0;32m----> 8\u001b[0m     \u001b[38;5;28;01mif\u001b[39;00m img_loc \u001b[38;5;129;01min\u001b[39;00m \u001b[38;5;28mopen\u001b[39m(\u001b[38;5;124m'\u001b[39m\u001b[38;5;124mCVPR_6th_ABAW_Expr_test_set.txt\u001b[39m\u001b[38;5;124m'\u001b[39m, \u001b[38;5;124m'\u001b[39m\u001b[38;5;124mr\u001b[39m\u001b[38;5;124m'\u001b[39m)\u001b[38;5;241m.\u001b[39mread():\n\u001b[1;32m      9\u001b[0m         f\u001b[38;5;241m.\u001b[39mwrite(line)\n\u001b[1;32m     10\u001b[0m     \u001b[38;5;28;01melse\u001b[39;00m:\n",
      "File \u001b[0;32m<frozen codecs>:322\u001b[0m, in \u001b[0;36mdecode\u001b[0;34m(self, input, final)\u001b[0m\n",
      "\u001b[0;31mKeyboardInterrupt\u001b[0m: "
     ]
    }
   ],
   "source": [
    "# 한줄씩 돌면서 image_location이 일치할때는 저장, 아니면 다음줄로 넘어가기\n",
    "with open('CVPR_6th_ABAW_Expr_test.txt', 'w') as f:\n",
    "    with open('results.csv', 'r') as r:\n",
    "        lines = r.readlines()\n",
    "        f.write(lines[0])\n",
    "        for line in lines[1:]:\n",
    "            img_loc = line.split(',')[0]\n",
    "            if img_loc in open('CVPR_6th_ABAW_Expr_test_set.txt', 'r').read():\n",
    "                f.write(line)\n",
    "            else:\n",
    "                continue"
   ]
  },
  {
   "cell_type": "code",
   "execution_count": null,
   "metadata": {},
   "outputs": [],
   "source": []
  },
  {
   "cell_type": "markdown",
   "metadata": {},
   "source": [
    "# Missing Value"
   ]
  },
  {
   "cell_type": "code",
   "execution_count": 23,
   "metadata": {},
   "outputs": [
    {
     "data": {
      "text/html": [
       "<div>\n",
       "<style scoped>\n",
       "    .dataframe tbody tr th:only-of-type {\n",
       "        vertical-align: middle;\n",
       "    }\n",
       "\n",
       "    .dataframe tbody tr th {\n",
       "        vertical-align: top;\n",
       "    }\n",
       "\n",
       "    .dataframe thead th {\n",
       "        text-align: right;\n",
       "    }\n",
       "</style>\n",
       "<table border=\"1\" class=\"dataframe\">\n",
       "  <thead>\n",
       "    <tr style=\"text-align: right;\">\n",
       "      <th></th>\n",
       "      <th>image_location</th>\n",
       "      <th>Neutral,Anger,Disgust,Fear,Happiness,Sadness,Surprise,Other</th>\n",
       "    </tr>\n",
       "  </thead>\n",
       "  <tbody>\n",
       "    <tr>\n",
       "      <th>0</th>\n",
       "      <td>14-30-1920x1080/00001.jpg</td>\n",
       "      <td>0</td>\n",
       "    </tr>\n",
       "    <tr>\n",
       "      <th>1</th>\n",
       "      <td>14-30-1920x1080/00002.jpg</td>\n",
       "      <td>0</td>\n",
       "    </tr>\n",
       "    <tr>\n",
       "      <th>2</th>\n",
       "      <td>14-30-1920x1080/00003.jpg</td>\n",
       "      <td>0</td>\n",
       "    </tr>\n",
       "    <tr>\n",
       "      <th>3</th>\n",
       "      <td>14-30-1920x1080/00004.jpg</td>\n",
       "      <td>0</td>\n",
       "    </tr>\n",
       "    <tr>\n",
       "      <th>4</th>\n",
       "      <td>14-30-1920x1080/00005.jpg</td>\n",
       "      <td>0</td>\n",
       "    </tr>\n",
       "    <tr>\n",
       "      <th>...</th>\n",
       "      <td>...</td>\n",
       "      <td>...</td>\n",
       "    </tr>\n",
       "    <tr>\n",
       "      <th>1007430</th>\n",
       "      <td>video96/08042.jpg</td>\n",
       "      <td>0</td>\n",
       "    </tr>\n",
       "    <tr>\n",
       "      <th>1007431</th>\n",
       "      <td>video96/08043.jpg</td>\n",
       "      <td>0</td>\n",
       "    </tr>\n",
       "    <tr>\n",
       "      <th>1007432</th>\n",
       "      <td>video96/08044.jpg</td>\n",
       "      <td>0</td>\n",
       "    </tr>\n",
       "    <tr>\n",
       "      <th>1007433</th>\n",
       "      <td>video96/08045.jpg</td>\n",
       "      <td>0</td>\n",
       "    </tr>\n",
       "    <tr>\n",
       "      <th>1007434</th>\n",
       "      <td>video96/08046.jpg</td>\n",
       "      <td>0</td>\n",
       "    </tr>\n",
       "  </tbody>\n",
       "</table>\n",
       "<p>1007435 rows × 2 columns</p>\n",
       "</div>"
      ],
      "text/plain": [
       "                    image_location  \\\n",
       "0        14-30-1920x1080/00001.jpg   \n",
       "1        14-30-1920x1080/00002.jpg   \n",
       "2        14-30-1920x1080/00003.jpg   \n",
       "3        14-30-1920x1080/00004.jpg   \n",
       "4        14-30-1920x1080/00005.jpg   \n",
       "...                            ...   \n",
       "1007430          video96/08042.jpg   \n",
       "1007431          video96/08043.jpg   \n",
       "1007432          video96/08044.jpg   \n",
       "1007433          video96/08045.jpg   \n",
       "1007434          video96/08046.jpg   \n",
       "\n",
       "         Neutral,Anger,Disgust,Fear,Happiness,Sadness,Surprise,Other  \n",
       "0                                                        0            \n",
       "1                                                        0            \n",
       "2                                                        0            \n",
       "3                                                        0            \n",
       "4                                                        0            \n",
       "...                                                    ...            \n",
       "1007430                                                  0            \n",
       "1007431                                                  0            \n",
       "1007432                                                  0            \n",
       "1007433                                                  0            \n",
       "1007434                                                  0            \n",
       "\n",
       "[1007435 rows x 2 columns]"
      ]
     },
     "execution_count": 23,
     "metadata": {},
     "output_type": "execute_result"
    }
   ],
   "source": [
    "x = pd.read_csv('Expr_result.csv')\n",
    "x"
   ]
  },
  {
   "cell_type": "code",
   "execution_count": null,
   "metadata": {},
   "outputs": [],
   "source": []
  }
 ],
 "metadata": {
  "kernelspec": {
   "display_name": "Meta",
   "language": "python",
   "name": "python3"
  },
  "language_info": {
   "codemirror_mode": {
    "name": "ipython",
    "version": 3
   },
   "file_extension": ".py",
   "mimetype": "text/x-python",
   "name": "python",
   "nbconvert_exporter": "python",
   "pygments_lexer": "ipython3",
   "version": "3.12.1"
  }
 },
 "nbformat": 4,
 "nbformat_minor": 2
}
