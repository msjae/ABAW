{
 "cells": [
  {
   "cell_type": "code",
   "execution_count": null,
   "metadata": {},
   "outputs": [],
   "source": [
    "import torch\n",
    "from torchvision import models, transforms\n",
    "from PIL import Image\n",
    "\n",
    "# 이미지를 로드하고 전처리하는 함수\n",
    "def preprocess_image(image_path):\n",
    "    preprocess = transforms.Compose([\n",
    "        transforms.Resize(256),\n",
    "        transforms.CenterCrop(224),\n",
    "        transforms.ToTensor(),\n",
    "        transforms.Normalize(mean=[0.485, 0.456, 0.406], std=[0.229, 0.224, 0.225]),\n",
    "    ])\n",
    "    image = Image.open(image_path)\n",
    "    image = preprocess(image).unsqueeze(0)\n",
    "    return image\n",
    "\n",
    "# ResNet50 모델을 로드하고 가중치를 ImageNet1K V2로 설정\n",
    "def load_resnet50_model():\n",
    "    model = models.resnet50(weights=models.ResNet50_Weights.IMAGENET1K_V2)\n",
    "    model.eval()  # 추론 모드로 설정\n",
    "    return model\n",
    "\n",
    "# 이미지의 특성을 추출하는 함수\n",
    "def extract_features(image_path, model):\n",
    "    image = preprocess_image(image_path)\n",
    "    with torch.no_grad():\n",
    "        features = model(image)\n",
    "    return features"
   ]
  },
  {
   "cell_type": "code",
   "execution_count": 11,
   "metadata": {},
   "outputs": [],
   "source": [
    "from glob import glob\n",
    "# 이미지 특징 불러오기\n",
    "vis_paths = glob('/home/minseongjae/ABAW/0_data/vis_feat/*/*.npy')\n",
    "aud_paths = glob('/home/minseongjae/ABAW/0_data/aud_feat/*/*.npy')"
   ]
  },
  {
   "cell_type": "code",
   "execution_count": 15,
   "metadata": {},
   "outputs": [
    {
     "name": "stdout",
     "output_type": "stream",
     "text": [
      "(1, 768)\n"
     ]
    },
    {
     "name": "stderr",
     "output_type": "stream",
     "text": [
      "  0%|          | 0/2941546 [00:00<?, ?it/s]"
     ]
    },
    {
     "name": "stderr",
     "output_type": "stream",
     "text": [
      "100%|██████████| 2941546/2941546 [15:56<00:00, 3076.13it/s]\n"
     ]
    }
   ],
   "source": [
    "import numpy as np\n",
    "from tqdm import tqdm\n",
    "aud_feat = np.load(aud_paths[0])\n",
    "print(aud_feat.shape)\n",
    "for vis_path in tqdm(vis_paths):\n",
    "    vis_feat = np.load(vis_path)\n",
    "    vis_feat = vis_feat.reshape(1, 768)\n",
    "    np.save(vis_path, vis_feat)"
   ]
  },
  {
   "cell_type": "code",
   "execution_count": null,
   "metadata": {},
   "outputs": [],
   "source": []
  }
 ],
 "metadata": {
  "kernelspec": {
   "display_name": "meta",
   "language": "python",
   "name": "python3"
  },
  "language_info": {
   "codemirror_mode": {
    "name": "ipython",
    "version": 3
   },
   "file_extension": ".py",
   "mimetype": "text/x-python",
   "name": "python",
   "nbconvert_exporter": "python",
   "pygments_lexer": "ipython3",
   "version": "3.12.1"
  }
 },
 "nbformat": 4,
 "nbformat_minor": 2
}
